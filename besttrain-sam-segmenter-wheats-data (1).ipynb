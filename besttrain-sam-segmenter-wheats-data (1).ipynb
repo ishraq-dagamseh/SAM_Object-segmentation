{
 "cells": [
  {
   "cell_type": "markdown",
   "id": "1a252c94",
   "metadata": {
    "id": "view-in-github",
    "papermill": {
     "duration": 0.017131,
     "end_time": "2024-03-02T12:07:43.388893",
     "exception": false,
     "start_time": "2024-03-02T12:07:43.371762",
     "status": "completed"
    },
    "tags": []
   },
   "source": []
  },
  {
   "cell_type": "markdown",
   "id": "9977fbf7",
   "metadata": {
    "id": "ekbl6wXaNLxT",
    "papermill": {
     "duration": 0.016607,
     "end_time": "2024-03-02T12:07:43.423649",
     "exception": false,
     "start_time": "2024-03-02T12:07:43.407042",
     "status": "completed"
    },
    "tags": []
   },
   "source": [
    "https://youtu.be/83tnWs_YBRQ"
   ]
  },
  {
   "cell_type": "markdown",
   "id": "8d91e076",
   "metadata": {
    "id": "VCm5afA7UaQu",
    "papermill": {
     "duration": 0.016076,
     "end_time": "2024-03-02T12:07:43.457468",
     "exception": false,
     "start_time": "2024-03-02T12:07:43.441392",
     "status": "completed"
    },
    "tags": []
   },
   "source": [
    "**This notebook walks you through the process of fine-tuning a Segment Anything Model (SAM) using custom data**.\n",
    "<p>\n",
    "\n",
    "**What is SAM?**\n",
    "<br>\n",
    "SAM is an image segmentation model developed by Meta AI. It was trained over 11 billion segmentation masks from millions of images. It is designed to take human prompts, in the form of points, bounding boxes or even a text prompt describing what should be segmented.\n",
    "<p>\n",
    "\n",
    "**What are the key features of SAM?**\n",
    "<br>\n",
    "\n",
    "* **Zero-shot generalization:** SAM can be used to segment objects that it has never seen before, without the need for additional training.\n",
    "\n",
    "* **Flexible prompting:** SAM can be prompted with a variety of input, including points, boxes, and text descriptions.\n",
    "\n",
    "* **Real-time mask computation:** SAM can generate masks for objects in real time. This makes SAM ideal for applications where it is necessary to segment objects quickly, such as autonomous driving and robotics.\n",
    "\n",
    "* **Ambiguity awareness:** SAM is aware of the ambiguity of objects in images. This means that SAM can generate masks for objects even when they are partially occluded or overlapping with other objects.\n",
    "\n",
    "<p>\n",
    "\n",
    "**How does SAM work?**\n",
    "<br>\n",
    "SAM works by first encoding the image into a high-dimensional vector representation. The prompt is encoded into a separate vector representation. The two vector representations are then combined and passed to a mask decoder, which outputs a mask for the object specified by the prompt.\n",
    "<p>\n",
    "The image encoder is a vision transformer (ViT-H) model, which is a large language model that has been pre-trained on a massive dataset of images. The prompt encoder is a simple text encoder that converts the input prompt into a vector representation. The mask decoder is a lightweight transformer model that predicts the object mask from the image and prompt embeddings.\n",
    "<p>\n",
    "\n",
    "**SAM paper:** https://arxiv.org/pdf/2304.02643.pdf​\n",
    "<p>\n",
    "\n",
    "**Link to the dataset used in this demonstration:** https://www.epfl.ch/labs/cvlab/data/data-em/\n",
    "<br>Courtesy: EPFL\n",
    "<p>\n",
    "\n",
    "This code has been heavily adapted from this notebook but modified to work with a truly custom dataset where we have a bunch of images and binary masks.\n",
    "https://github.com/NielsRogge/Transformers-Tutorials/blob/master/SAM/Fine_tune_SAM_(segment_anything)_on_a_custom_dataset.ipynb\n",
    "\n"
   ]
  },
  {
   "cell_type": "markdown",
   "id": "499f4572",
   "metadata": {
    "papermill": {
     "duration": 0.016782,
     "end_time": "2024-03-02T12:07:43.490348",
     "exception": false,
     "start_time": "2024-03-02T12:07:43.473566",
     "status": "completed"
    },
    "tags": []
   },
   "source": [
    "# 1. Read data\n",
    "decide: images as features & masks as labels"
   ]
  },
  {
   "cell_type": "code",
   "execution_count": 1,
   "id": "327a11d8",
   "metadata": {
    "execution": {
     "iopub.execute_input": "2024-03-02T12:07:43.525573Z",
     "iopub.status.busy": "2024-03-02T12:07:43.524711Z",
     "iopub.status.idle": "2024-03-02T12:07:46.069665Z",
     "shell.execute_reply": "2024-03-02T12:07:46.068836Z"
    },
    "papermill": {
     "duration": 2.565275,
     "end_time": "2024-03-02T12:07:46.072023",
     "exception": false,
     "start_time": "2024-03-02T12:07:43.506748",
     "status": "completed"
    },
    "tags": []
   },
   "outputs": [],
   "source": [
    "import os\n",
    "import numpy as np\n",
    "import cv2\n",
    "from glob import glob\n",
    "from tqdm import tqdm\n",
    "import imageio\n",
    "from albumentations import HorizontalFlip, VerticalFlip, Rotate\n",
    "\n",
    "\"\"\" Create a directory \"\"\"\n",
    "def create_dir(path):\n",
    "    if not os.path.exists(path):\n",
    "        os.makedirs(path)\n",
    "\n",
    "def load_data(path):\n",
    "    train_x = sorted(glob(os.path.join(path, \"images\", \"*.jpg\")))\n",
    "    train_y = sorted(glob(os.path.join(path, \"masks\", \"*.png\")))\n",
    "\n",
    "\n",
    "    return (train_x, train_y)\n",
    "\"\"\" Load the data \"\"\"\n",
    "data_path = \"/kaggle/input/sam-images-masks-wheatsdata/SAM_DATASET(WHEATS)\"\n",
    "\n",
    "(train_x, train_y) = load_data(data_path)\n",
    "#data=load_data(data_path)\n"
   ]
  },
  {
   "cell_type": "code",
   "execution_count": 2,
   "id": "42387983",
   "metadata": {
    "execution": {
     "iopub.execute_input": "2024-03-02T12:07:46.106442Z",
     "iopub.status.busy": "2024-03-02T12:07:46.105620Z",
     "iopub.status.idle": "2024-03-02T12:07:50.095756Z",
     "shell.execute_reply": "2024-03-02T12:07:50.094755Z"
    },
    "papermill": {
     "duration": 4.009965,
     "end_time": "2024-03-02T12:07:50.098338",
     "exception": false,
     "start_time": "2024-03-02T12:07:46.088373",
     "status": "completed"
    },
    "tags": []
   },
   "outputs": [],
   "source": [
    "import os\n",
    "import numpy as np\n",
    "import cv2\n",
    "import torch\n",
    "from torch.utils.data import Dataset\n",
    "\n",
    "class DriveDataset(Dataset):\n",
    "    def __init__(self, images_path, masks_path):\n",
    "\n",
    "        self.images_path = images_path\n",
    "        self.masks_path = masks_path\n",
    "        self.n_samples = len(images_path)\n",
    "\n",
    "    def __getitem__(self, index):\n",
    "        \"\"\" Reading image \"\"\"\n",
    "        image = cv2.imread(self.images_path[index], cv2.IMREAD_COLOR)\n",
    "        image =cv2.resize(image,(1024,1024))\n",
    "        image = image/255.0 ## (512, 512, 3)\n",
    "        image = np.transpose(image, (2, 0, 1))  ## (3, 512, 512)\n",
    "        image = image.astype(np.float32)\n",
    "        image = torch.from_numpy(image)\n",
    "\n",
    "        \"\"\" Reading mask \"\"\"\n",
    "        mask = cv2.imread(self.masks_path[index], cv2.IMREAD_GRAYSCALE)\n",
    "        mask =cv2.resize(mask,(1024,1024))\n",
    "        mask = mask/255.0   ## (512, 512)\n",
    "        mask = np.expand_dims(mask, axis=0) ## (1, 512, 512)\n",
    "        mask = mask.astype(np.float32)\n",
    "        mask = torch.from_numpy(mask)\n",
    "\n",
    "        return image, mask\n",
    "    def __len__(self):\n",
    "        return self.n_samples\n",
    "\n",
    "   "
   ]
  },
  {
   "cell_type": "code",
   "execution_count": 3,
   "id": "3853b377",
   "metadata": {
    "execution": {
     "iopub.execute_input": "2024-03-02T12:07:50.136035Z",
     "iopub.status.busy": "2024-03-02T12:07:50.135577Z",
     "iopub.status.idle": "2024-03-02T12:07:50.162860Z",
     "shell.execute_reply": "2024-03-02T12:07:50.161885Z"
    },
    "papermill": {
     "duration": 0.047282,
     "end_time": "2024-03-02T12:07:50.164886",
     "exception": false,
     "start_time": "2024-03-02T12:07:50.117604",
     "status": "completed"
    },
    "tags": []
   },
   "outputs": [
    {
     "data": {
      "text/plain": [
       "'train_loader = DataLoader(\\n        dataset=train_dataset,\\n        batch_size=2,\\n        shuffle=True,\\n        num_workers=2,\\n    )\\ntest_loader= DataLoader(\\n        dataset=test_dataset,\\n        batch_size=2,\\n        shuffle=True,\\n        num_workers=2,\\n    )'"
      ]
     },
     "execution_count": 3,
     "metadata": {},
     "output_type": "execute_result"
    }
   ],
   "source": [
    "from torch.utils.data import DataLoader\n",
    "\"\"\" Load dataset \"\"\"\n",
    "#train_x = sorted(glob(\"/kaggle/input/sam-images-masks-wheatsdata/SAM_DATASET(WHEATS)/images/*\"))\n",
    "#train_y = sorted(glob(\"/kaggle/input/sam-images-masks-wheatsdata/SAM_DATASET(WHEATS)/masks/*\"))\n",
    "dataset = DriveDataset(train_x, train_y)\n",
    "import torch\n",
    "train_size = int(0.85 * len(dataset))\n",
    "test_size = len(dataset) - train_size\n",
    "train_dataset, test_dataset = torch.utils.data.random_split(dataset, [train_size, test_size])\n",
    "\"\"\"train_loader = DataLoader(\n",
    "        dataset=train_dataset,\n",
    "        batch_size=2,\n",
    "        shuffle=True,\n",
    "        num_workers=2,\n",
    "    )\n",
    "test_loader= DataLoader(\n",
    "        dataset=test_dataset,\n",
    "        batch_size=2,\n",
    "        shuffle=True,\n",
    "        num_workers=2,\n",
    "    )\"\"\""
   ]
  },
  {
   "cell_type": "code",
   "execution_count": 4,
   "id": "4f2a4fa4",
   "metadata": {
    "execution": {
     "iopub.execute_input": "2024-03-02T12:07:50.201000Z",
     "iopub.status.busy": "2024-03-02T12:07:50.200646Z",
     "iopub.status.idle": "2024-03-02T12:07:50.206494Z",
     "shell.execute_reply": "2024-03-02T12:07:50.205707Z"
    },
    "papermill": {
     "duration": 0.026006,
     "end_time": "2024-03-02T12:07:50.208481",
     "exception": false,
     "start_time": "2024-03-02T12:07:50.182475",
     "status": "completed"
    },
    "tags": []
   },
   "outputs": [
    {
     "data": {
      "text/plain": [
       "(506, 2867)"
      ]
     },
     "execution_count": 4,
     "metadata": {},
     "output_type": "execute_result"
    }
   ],
   "source": [
    "len(test_dataset), len(train_dataset)"
   ]
  },
  {
   "cell_type": "code",
   "execution_count": 5,
   "id": "7add126c",
   "metadata": {
    "execution": {
     "iopub.execute_input": "2024-03-02T12:07:50.247814Z",
     "iopub.status.busy": "2024-03-02T12:07:50.247100Z",
     "iopub.status.idle": "2024-03-02T12:07:50.421892Z",
     "shell.execute_reply": "2024-03-02T12:07:50.417069Z"
    },
    "papermill": {
     "duration": 0.200923,
     "end_time": "2024-03-02T12:07:50.426376",
     "exception": false,
     "start_time": "2024-03-02T12:07:50.225453",
     "status": "completed"
    },
    "tags": []
   },
   "outputs": [
    {
     "data": {
      "text/plain": [
       "(tensor([[[0.0275, 0.0235, 0.0235,  ..., 0.2902, 0.2902, 0.2941],\n",
       "          [0.0235, 0.0235, 0.0353,  ..., 0.2863, 0.2863, 0.2902],\n",
       "          [0.0235, 0.0314, 0.0510,  ..., 0.2824, 0.2824, 0.2863],\n",
       "          ...,\n",
       "          [0.5294, 0.4667, 0.3765,  ..., 0.3176, 0.3098, 0.3020],\n",
       "          [0.4980, 0.4471, 0.3804,  ..., 0.3059, 0.2980, 0.2902],\n",
       "          [0.4745, 0.4353, 0.3804,  ..., 0.2980, 0.2902, 0.2824]],\n",
       " \n",
       "         [[0.0706, 0.0706, 0.0745,  ..., 0.2745, 0.2745, 0.2784],\n",
       "          [0.0667, 0.0706, 0.0863,  ..., 0.2706, 0.2706, 0.2745],\n",
       "          [0.0667, 0.0784, 0.1020,  ..., 0.2667, 0.2667, 0.2706],\n",
       "          ...,\n",
       "          [0.7647, 0.7020, 0.6196,  ..., 0.3608, 0.3529, 0.3451],\n",
       "          [0.7333, 0.6863, 0.6196,  ..., 0.3490, 0.3412, 0.3333],\n",
       "          [0.7098, 0.6706, 0.6196,  ..., 0.3412, 0.3333, 0.3255]],\n",
       " \n",
       "         [[0.0627, 0.0588, 0.0667,  ..., 0.2039, 0.2039, 0.2078],\n",
       "          [0.0627, 0.0627, 0.0784,  ..., 0.2000, 0.2039, 0.2039],\n",
       "          [0.0588, 0.0706, 0.0941,  ..., 0.1961, 0.1961, 0.2000],\n",
       "          ...,\n",
       "          [0.7216, 0.6549, 0.5608,  ..., 0.2824, 0.2745, 0.2667],\n",
       "          [0.6902, 0.6353, 0.5647,  ..., 0.2706, 0.2627, 0.2549],\n",
       "          [0.6667, 0.6235, 0.5608,  ..., 0.2627, 0.2549, 0.2471]]]),\n",
       " tensor([[[0., 0., 0.,  ..., 0., 0., 0.],\n",
       "          [0., 0., 0.,  ..., 0., 0., 0.],\n",
       "          [0., 0., 0.,  ..., 0., 0., 0.],\n",
       "          ...,\n",
       "          [0., 0., 0.,  ..., 0., 0., 0.],\n",
       "          [0., 0., 0.,  ..., 0., 0., 0.],\n",
       "          [0., 0., 0.,  ..., 0., 0., 0.]]]))"
      ]
     },
     "execution_count": 5,
     "metadata": {},
     "output_type": "execute_result"
    }
   ],
   "source": [
    "train_dataset[0]"
   ]
  },
  {
   "cell_type": "code",
   "execution_count": 6,
   "id": "357cb145",
   "metadata": {
    "execution": {
     "iopub.execute_input": "2024-03-02T12:07:50.463611Z",
     "iopub.status.busy": "2024-03-02T12:07:50.463248Z",
     "iopub.status.idle": "2024-03-02T12:09:35.998717Z",
     "shell.execute_reply": "2024-03-02T12:09:35.997594Z"
    },
    "id": "NSkTx6N-Mtyd",
    "papermill": {
     "duration": 105.556372,
     "end_time": "2024-03-02T12:09:36.001207",
     "exception": false,
     "start_time": "2024-03-02T12:07:50.444835",
     "status": "completed"
    },
    "tags": []
   },
   "outputs": [
    {
     "name": "stdout",
     "output_type": "stream",
     "text": [
      "Collecting git+https://github.com/facebookresearch/segment-anything.git\r\n",
      "  Cloning https://github.com/facebookresearch/segment-anything.git to /tmp/pip-req-build-1qwdlesv\r\n",
      "  Running command git clone --filter=blob:none --quiet https://github.com/facebookresearch/segment-anything.git /tmp/pip-req-build-1qwdlesv\r\n",
      "  Resolved https://github.com/facebookresearch/segment-anything.git to commit 6fdee8f2727f4506cfbbe553e23b895e27956588\r\n",
      "  Preparing metadata (setup.py) ... \u001b[?25ldone\r\n",
      "\u001b[?25hRequirement already satisfied: datasets in /opt/conda/lib/python3.10/site-packages (2.1.0)\r\n",
      "Requirement already satisfied: numpy>=1.17 in /opt/conda/lib/python3.10/site-packages (from datasets) (1.26.4)\r\n",
      "Requirement already satisfied: pyarrow>=5.0.0 in /opt/conda/lib/python3.10/site-packages (from datasets) (11.0.0)\r\n",
      "Requirement already satisfied: dill in /opt/conda/lib/python3.10/site-packages (from datasets) (0.3.8)\r\n",
      "Requirement already satisfied: pandas in /opt/conda/lib/python3.10/site-packages (from datasets) (2.1.4)\r\n",
      "Requirement already satisfied: requests>=2.19.0 in /opt/conda/lib/python3.10/site-packages (from datasets) (2.31.0)\r\n",
      "Requirement already satisfied: tqdm>=4.62.1 in /opt/conda/lib/python3.10/site-packages (from datasets) (4.66.1)\r\n",
      "Requirement already satisfied: xxhash in /opt/conda/lib/python3.10/site-packages (from datasets) (3.4.1)\r\n",
      "Requirement already satisfied: multiprocess in /opt/conda/lib/python3.10/site-packages (from datasets) (0.70.16)\r\n",
      "Requirement already satisfied: fsspec>=2021.05.0 in /opt/conda/lib/python3.10/site-packages (from fsspec[http]>=2021.05.0->datasets) (2024.2.0)\r\n",
      "Requirement already satisfied: aiohttp in /opt/conda/lib/python3.10/site-packages (from datasets) (3.9.1)\r\n",
      "Requirement already satisfied: huggingface-hub<1.0.0,>=0.1.0 in /opt/conda/lib/python3.10/site-packages (from datasets) (0.20.3)\r\n",
      "Requirement already satisfied: packaging in /opt/conda/lib/python3.10/site-packages (from datasets) (21.3)\r\n",
      "Requirement already satisfied: responses<0.19 in /opt/conda/lib/python3.10/site-packages (from datasets) (0.18.0)\r\n",
      "Requirement already satisfied: attrs>=17.3.0 in /opt/conda/lib/python3.10/site-packages (from aiohttp->datasets) (23.2.0)\r\n",
      "Requirement already satisfied: multidict<7.0,>=4.5 in /opt/conda/lib/python3.10/site-packages (from aiohttp->datasets) (6.0.4)\r\n",
      "Requirement already satisfied: yarl<2.0,>=1.0 in /opt/conda/lib/python3.10/site-packages (from aiohttp->datasets) (1.9.3)\r\n",
      "Requirement already satisfied: frozenlist>=1.1.1 in /opt/conda/lib/python3.10/site-packages (from aiohttp->datasets) (1.4.1)\r\n",
      "Requirement already satisfied: aiosignal>=1.1.2 in /opt/conda/lib/python3.10/site-packages (from aiohttp->datasets) (1.3.1)\r\n",
      "Requirement already satisfied: async-timeout<5.0,>=4.0 in /opt/conda/lib/python3.10/site-packages (from aiohttp->datasets) (4.0.3)\r\n",
      "Requirement already satisfied: filelock in /opt/conda/lib/python3.10/site-packages (from huggingface-hub<1.0.0,>=0.1.0->datasets) (3.13.1)\r\n",
      "Requirement already satisfied: pyyaml>=5.1 in /opt/conda/lib/python3.10/site-packages (from huggingface-hub<1.0.0,>=0.1.0->datasets) (6.0.1)\r\n",
      "Requirement already satisfied: typing-extensions>=3.7.4.3 in /opt/conda/lib/python3.10/site-packages (from huggingface-hub<1.0.0,>=0.1.0->datasets) (4.9.0)\r\n",
      "Requirement already satisfied: pyparsing!=3.0.5,>=2.0.2 in /opt/conda/lib/python3.10/site-packages (from packaging->datasets) (3.1.1)\r\n",
      "Requirement already satisfied: charset-normalizer<4,>=2 in /opt/conda/lib/python3.10/site-packages (from requests>=2.19.0->datasets) (3.3.2)\r\n",
      "Requirement already satisfied: idna<4,>=2.5 in /opt/conda/lib/python3.10/site-packages (from requests>=2.19.0->datasets) (3.6)\r\n",
      "Requirement already satisfied: urllib3<3,>=1.21.1 in /opt/conda/lib/python3.10/site-packages (from requests>=2.19.0->datasets) (1.26.18)\r\n",
      "Requirement already satisfied: certifi>=2017.4.17 in /opt/conda/lib/python3.10/site-packages (from requests>=2.19.0->datasets) (2024.2.2)\r\n",
      "Requirement already satisfied: python-dateutil>=2.8.2 in /opt/conda/lib/python3.10/site-packages (from pandas->datasets) (2.8.2)\r\n",
      "Requirement already satisfied: pytz>=2020.1 in /opt/conda/lib/python3.10/site-packages (from pandas->datasets) (2023.3.post1)\r\n",
      "Requirement already satisfied: tzdata>=2022.1 in /opt/conda/lib/python3.10/site-packages (from pandas->datasets) (2023.4)\r\n",
      "Requirement already satisfied: six>=1.5 in /opt/conda/lib/python3.10/site-packages (from python-dateutil>=2.8.2->pandas->datasets) (1.16.0)\r\n",
      "Collecting patchify\r\n",
      "  Downloading patchify-0.2.3-py3-none-any.whl.metadata (3.0 kB)\r\n",
      "Requirement already satisfied: numpy<2,>=1 in /opt/conda/lib/python3.10/site-packages (from patchify) (1.26.4)\r\n",
      "Downloading patchify-0.2.3-py3-none-any.whl (6.6 kB)\r\n",
      "Installing collected packages: patchify\r\n",
      "Successfully installed patchify-0.2.3\r\n"
     ]
    }
   ],
   "source": [
    "# Install the required libraries\n",
    "#SAM\n",
    "!pip install git+https://github.com/facebookresearch/segment-anything.git\n",
    "#Transformers\n",
    "!pip install -q git+https://github.com/huggingface/transformers.git\n",
    "#Datasets to prepare data and monai if you want to use special loss functions\n",
    "!pip install datasets\n",
    "!pip install -q monai\n",
    "#Patchify to divide large images into smaller patches for training. (Not necessary for smaller images)\n",
    "!pip install patchify"
   ]
  },
  {
   "cell_type": "code",
   "execution_count": 7,
   "id": "51d95653",
   "metadata": {
    "execution": {
     "iopub.execute_input": "2024-03-02T12:09:36.040128Z",
     "iopub.status.busy": "2024-03-02T12:09:36.039753Z",
     "iopub.status.idle": "2024-03-02T12:09:36.225800Z",
     "shell.execute_reply": "2024-03-02T12:09:36.224961Z"
    },
    "id": "aTXUX7xyCEGT",
    "papermill": {
     "duration": 0.208586,
     "end_time": "2024-03-02T12:09:36.228431",
     "exception": false,
     "start_time": "2024-03-02T12:09:36.019845",
     "status": "completed"
    },
    "tags": []
   },
   "outputs": [],
   "source": [
    "import numpy as np\n",
    "import matplotlib.pyplot as plt\n",
    "import tifffile\n",
    "import os\n",
    "from patchify import patchify  #Only to handle large images\n",
    "import random\n",
    "from scipy import ndimage"
   ]
  },
  {
   "cell_type": "code",
   "execution_count": 8,
   "id": "3e8cff6e",
   "metadata": {
    "execution": {
     "iopub.execute_input": "2024-03-02T12:09:36.266289Z",
     "iopub.status.busy": "2024-03-02T12:09:36.265942Z",
     "iopub.status.idle": "2024-03-02T12:09:38.081481Z",
     "shell.execute_reply": "2024-03-02T12:09:38.080574Z"
    },
    "id": "5hAoOYN2_s7l",
    "papermill": {
     "duration": 1.836868,
     "end_time": "2024-03-02T12:09:38.083759",
     "exception": false,
     "start_time": "2024-03-02T12:09:36.246891",
     "status": "completed"
    },
    "tags": []
   },
   "outputs": [],
   "source": [
    "from datasets import Dataset\n",
    "from PIL import Image\n",
    "\n"
   ]
  },
  {
   "cell_type": "markdown",
   "id": "50c123da",
   "metadata": {
    "id": "CffHur2PhiOJ",
    "papermill": {
     "duration": 0.017738,
     "end_time": "2024-03-02T12:09:38.119977",
     "exception": false,
     "start_time": "2024-03-02T12:09:38.102239",
     "status": "completed"
    },
    "tags": []
   },
   "source": [
    "Get bounding boxes from masks. You can get here directly if you are working with coco style annotations where bounding boxes are captured in a JSON file."
   ]
  },
  {
   "cell_type": "code",
   "execution_count": 9,
   "id": "fffed9bf",
   "metadata": {
    "execution": {
     "iopub.execute_input": "2024-03-02T12:09:38.158422Z",
     "iopub.status.busy": "2024-03-02T12:09:38.157849Z",
     "iopub.status.idle": "2024-03-02T12:09:38.165500Z",
     "shell.execute_reply": "2024-03-02T12:09:38.164620Z"
    },
    "id": "LYmrZ9hWCpKV",
    "papermill": {
     "duration": 0.02907,
     "end_time": "2024-03-02T12:09:38.167371",
     "exception": false,
     "start_time": "2024-03-02T12:09:38.138301",
     "status": "completed"
    },
    "tags": []
   },
   "outputs": [],
   "source": [
    "#Get bounding boxes from mask.\n",
    "def get_bounding_box(ground_truth_map):\n",
    "  # get bounding box from mask\n",
    "  y_indices, x_indices = np.where(ground_truth_map > 0)\n",
    "  x_min, x_max = np.min(x_indices), np.max(x_indices)\n",
    "  y_min, y_max = np.min(y_indices), np.max(y_indices)\n",
    "  # add perturbation to bounding box coordinates\n",
    "  H, W = ground_truth_map.shape\n",
    "  x_min = max(0, x_min - np.random.randint(0, 20))\n",
    "  x_max = min(W, x_max + np.random.randint(0, 20))\n",
    "  y_min = max(0, y_min - np.random.randint(0, 20))\n",
    "  y_max = min(H, y_max + np.random.randint(0, 20))\n",
    "  bbox = [x_min, y_min, x_max, y_max]\n",
    "\n",
    "  return bbox"
   ]
  },
  {
   "cell_type": "code",
   "execution_count": 10,
   "id": "0f1d72fa",
   "metadata": {
    "execution": {
     "iopub.execute_input": "2024-03-02T12:09:38.212255Z",
     "iopub.status.busy": "2024-03-02T12:09:38.211841Z",
     "iopub.status.idle": "2024-03-02T12:09:38.237035Z",
     "shell.execute_reply": "2024-03-02T12:09:38.235852Z"
    },
    "id": "dQVNaYYbDKf6",
    "papermill": {
     "duration": 0.053575,
     "end_time": "2024-03-02T12:09:38.239453",
     "exception": false,
     "start_time": "2024-03-02T12:09:38.185878",
     "status": "completed"
    },
    "tags": []
   },
   "outputs": [],
   "source": [
    "from torch.utils.data import Dataset\n",
    "def get_bounding_box(ground_truth_map):\n",
    "    '''\n",
    "    This function creates varying bounding box coordinates based on the\n",
    "    segmentation contours as prompt for the SAM model\n",
    "    The padding is random int values between 5 and 20 pixels\n",
    "    '''\n",
    "\n",
    "    if len(np.unique(ground_truth_map)) > 1:\n",
    "\n",
    "        # get bounding box from mask\n",
    "        y_indices, x_indices = np.where(ground_truth_map > 0)\n",
    "        x_min, x_max = np.min(x_indices), np.max(x_indices)\n",
    "        y_min, y_max = np.min(y_indices), np.max(y_indices)\n",
    "        \n",
    "        # add perturbation to bounding box coordinates\n",
    "        H, W = ground_truth_map.shape\n",
    "        x_min = max(0, x_min - np.random.randint(5, 20))\n",
    "        x_max = min(W, x_max + np.random.randint(5, 20))\n",
    "        y_min = max(0, y_min - np.random.randint(5, 20))\n",
    "        y_max = min(H, y_max + np.random.randint(5, 20))\n",
    "        \n",
    "        bbox = [x_min, y_min, x_max, y_max]\n",
    "\n",
    "        return bbox\n",
    "    else:\n",
    "        return [0, 0, 256, 256] # if there is no mask in the array, set bbox to image size\n",
    "        \n",
    " \n",
    "class SAMDataset(Dataset):\n",
    "    def __init__(self, image_paths, mask_paths, processor):\n",
    "        \n",
    "        self.image_paths = image_paths\n",
    "        self.mask_paths = mask_paths\n",
    "        self.processor = processor\n",
    "        self.transforms = transforms = Compose([\n",
    "            \n",
    "            # load .nii or .nii.gz files\n",
    "            LoadImaged(keys=['img', 'label']),\n",
    "            \n",
    "            # add channel id to match PyTorch configurations\n",
    "            EnsureChannelFirstd(keys=['img', 'label']),\n",
    "            \n",
    "            # reorient images for consistency and visualization\n",
    "            Orientationd(keys=['img', 'label'], axcodes='RA'),\n",
    "            \n",
    "            # resample all training images to a fixed spacing\n",
    "            Spacingd(keys=['img', 'label'], pixdim=(1.5, 1.5), mode=(\"bilinear\", \"nearest\")),\n",
    "            \n",
    "            # rescale image and label dimensions to 256x256 \n",
    "            CenterSpatialCropd(keys=['img', 'label'], roi_size=(256,256)),\n",
    "            \n",
    "            # scale intensities to 0 and 255 to match the expected input intensity range\n",
    "            ScaleIntensityRanged(keys=['img'], a_min=-1000, a_max=2000, \n",
    "                         b_min=0.0, b_max=255.0, clip=True), \n",
    "            \n",
    "            ScaleIntensityRanged(keys=['label'], a_min=0, a_max=255, \n",
    "                         b_min=0.0, b_max=1.0, clip=True), \n",
    "\n",
    "            SpatialPadd(keys=[\"img\", \"label\"], spatial_size=(256,256))\n",
    "#             RepeatChanneld(keys=['img'], repeats=3, allow_missing_keys=True)\n",
    "        ])\n",
    "\n",
    "    def __len__(self):\n",
    "        return len(self.image_paths)\n",
    "\n",
    "    def __getitem__(self, idx):\n",
    "        image_path = self.image_paths[idx]\n",
    "        mask_path = self.mask_paths[idx]\n",
    "        \n",
    "        # create a dict of images and labels to apply Monai's dictionary transforms\n",
    "        data_dict = self.transforms({'img': image_path, 'label': mask_path})\n",
    "\n",
    "        # squeeze extra dimensions\n",
    "        image = data_dict['img'].squeeze()\n",
    "        ground_truth_mask = data_dict['label'].squeeze()\n",
    "\n",
    "        # convert to int type for huggingface's models expected inputs\n",
    "        image = image.astype(np.uint8)\n",
    "\n",
    "        # convert the grayscale array to RGB (3 channels)\n",
    "        array_rgb = np.dstack((image, image, image))\n",
    "        \n",
    "        # convert to PIL image to match the expected input of processor\n",
    "        image_rgb = Image.fromarray(array_rgb)\n",
    "        \n",
    "        # get bounding box prompt (returns xmin, ymin, xmax, ymax)\n",
    "        # in this dataset, the contours are -1 so we change them to 1 for label and 0 for background\n",
    "        ground_truth_mask[ground_truth_mask < 0] = 1\n",
    "        \n",
    "        prompt = get_bounding_box(ground_truth_mask)\n",
    "        \n",
    "        # prepare image and prompt for the model\n",
    "        inputs = self.processor(image_rgb, input_boxes=[[prompt]], return_tensors=\"pt\")\n",
    "\n",
    "        # remove batch dimension which the processor adds by default\n",
    "        inputs = {k: v.squeeze(0) for k, v in inputs.items()}\n",
    "\n",
    "        # add ground truth segmentation (ground truth image size is 256x256)\n",
    "        inputs[\"ground_truth_mask\"] = torch.from_numpy(ground_truth_mask.astype(np.int8))\n",
    "\n",
    "        return inputs\n",
    "\n",
    "   "
   ]
  },
  {
   "cell_type": "code",
   "execution_count": 11,
   "id": "e8a52905",
   "metadata": {
    "execution": {
     "iopub.execute_input": "2024-03-02T12:09:38.279712Z",
     "iopub.status.busy": "2024-03-02T12:09:38.279387Z",
     "iopub.status.idle": "2024-03-02T12:09:38.284026Z",
     "shell.execute_reply": "2024-03-02T12:09:38.282902Z"
    },
    "papermill": {
     "duration": 0.028348,
     "end_time": "2024-03-02T12:09:38.286630",
     "exception": false,
     "start_time": "2024-03-02T12:09:38.258282",
     "status": "completed"
    },
    "tags": []
   },
   "outputs": [],
   "source": [
    "# create train and validation dataloaders\n",
    "#train_dataset = SAMDataset(image_paths=data_paths['train_images'], mask_paths=data_paths['train_masks'], processor=processor)\n",
    "#train_dataloader = DataLoader(train_dataset, batch_size=1, shuffle=True)\n",
    "\n",
    "#val_dataset = SAMDataset(image_paths=data_paths['val_images'], mask_paths=data_paths['val_masks'], processor=processor)\n",
    "#val_dataloader = DataLoader(val_dataset, batch_size=1, shuffle=True)"
   ]
  },
  {
   "cell_type": "code",
   "execution_count": 12,
   "id": "5cbdad9d",
   "metadata": {
    "execution": {
     "iopub.execute_input": "2024-03-02T12:09:38.335527Z",
     "iopub.status.busy": "2024-03-02T12:09:38.335186Z",
     "iopub.status.idle": "2024-03-02T12:09:50.906325Z",
     "shell.execute_reply": "2024-03-02T12:09:50.905328Z"
    },
    "id": "5IVksPItDOYg",
    "outputId": "f6014e36-0dc7-4983-d28e-d0fdc09ad245",
    "papermill": {
     "duration": 12.597491,
     "end_time": "2024-03-02T12:09:50.908760",
     "exception": false,
     "start_time": "2024-03-02T12:09:38.311269",
     "status": "completed"
    },
    "tags": []
   },
   "outputs": [
    {
     "name": "stderr",
     "output_type": "stream",
     "text": [
      "2024-03-02 12:09:41.488077: E external/local_xla/xla/stream_executor/cuda/cuda_dnn.cc:9261] Unable to register cuDNN factory: Attempting to register factory for plugin cuDNN when one has already been registered\n",
      "2024-03-02 12:09:41.488222: E external/local_xla/xla/stream_executor/cuda/cuda_fft.cc:607] Unable to register cuFFT factory: Attempting to register factory for plugin cuFFT when one has already been registered\n",
      "2024-03-02 12:09:41.605598: E external/local_xla/xla/stream_executor/cuda/cuda_blas.cc:1515] Unable to register cuBLAS factory: Attempting to register factory for plugin cuBLAS when one has already been registered\n"
     ]
    },
    {
     "data": {
      "application/vnd.jupyter.widget-view+json": {
       "model_id": "70d3160ce4924c40a85fc97b018b94c3",
       "version_major": 2,
       "version_minor": 0
      },
      "text/plain": [
       "preprocessor_config.json:   0%|          | 0.00/466 [00:00<?, ?B/s]"
      ]
     },
     "metadata": {},
     "output_type": "display_data"
    },
    {
     "name": "stdout",
     "output_type": "stream",
     "text": [
      "SamProcessor:\n",
      "- image_processor: SamImageProcessor {\n",
      "  \"_valid_processor_keys\": [\n",
      "    \"images\",\n",
      "    \"segmentation_maps\",\n",
      "    \"do_resize\",\n",
      "    \"size\",\n",
      "    \"mask_size\",\n",
      "    \"resample\",\n",
      "    \"do_rescale\",\n",
      "    \"rescale_factor\",\n",
      "    \"do_normalize\",\n",
      "    \"image_mean\",\n",
      "    \"image_std\",\n",
      "    \"do_pad\",\n",
      "    \"pad_size\",\n",
      "    \"mask_pad_size\",\n",
      "    \"do_convert_rgb\",\n",
      "    \"return_tensors\",\n",
      "    \"data_format\",\n",
      "    \"input_data_format\"\n",
      "  ],\n",
      "  \"do_convert_rgb\": true,\n",
      "  \"do_normalize\": true,\n",
      "  \"do_pad\": true,\n",
      "  \"do_rescale\": true,\n",
      "  \"do_resize\": true,\n",
      "  \"image_mean\": [\n",
      "    0.485,\n",
      "    0.456,\n",
      "    0.406\n",
      "  ],\n",
      "  \"image_processor_type\": \"SamImageProcessor\",\n",
      "  \"image_std\": [\n",
      "    0.229,\n",
      "    0.224,\n",
      "    0.225\n",
      "  ],\n",
      "  \"mask_pad_size\": {\n",
      "    \"height\": 256,\n",
      "    \"width\": 256\n",
      "  },\n",
      "  \"mask_size\": {\n",
      "    \"longest_edge\": 256\n",
      "  },\n",
      "  \"pad_size\": {\n",
      "    \"height\": 1024,\n",
      "    \"width\": 1024\n",
      "  },\n",
      "  \"processor_class\": \"SamProcessor\",\n",
      "  \"resample\": 2,\n",
      "  \"rescale_factor\": 0.00392156862745098,\n",
      "  \"size\": {\n",
      "    \"longest_edge\": 1024\n",
      "  }\n",
      "}\n",
      "\n",
      "\n",
      "{\n",
      "  \"processor_class\": \"SamProcessor\"\n",
      "}\n",
      "\n"
     ]
    }
   ],
   "source": [
    "# Initialize the processor\n",
    "from transformers import SamProcessor\n",
    "processor = SamProcessor.from_pretrained(\"facebook/sam-vit-base\")\n",
    "print(processor)"
   ]
  },
  {
   "cell_type": "code",
   "execution_count": 13,
   "id": "fd6a6325",
   "metadata": {
    "execution": {
     "iopub.execute_input": "2024-03-02T12:09:50.948804Z",
     "iopub.status.busy": "2024-03-02T12:09:50.947600Z",
     "iopub.status.idle": "2024-03-02T12:09:50.952268Z",
     "shell.execute_reply": "2024-03-02T12:09:50.951384Z"
    },
    "id": "aU59Asl5DQCF",
    "papermill": {
     "duration": 0.026336,
     "end_time": "2024-03-02T12:09:50.954168",
     "exception": false,
     "start_time": "2024-03-02T12:09:50.927832",
     "status": "completed"
    },
    "tags": []
   },
   "outputs": [],
   "source": [
    "# Create an instance of the SAMDatasettrain_loadertrain_dataset\n",
    "#train_dataset1 = SAMDataset(dataset=train_dataset, processor=processor)\n",
    "#test_dataset1 = SAMDataset(dataset=test_dataset, processor=processor)"
   ]
  },
  {
   "cell_type": "code",
   "execution_count": 14,
   "id": "e4e81721",
   "metadata": {
    "execution": {
     "iopub.execute_input": "2024-03-02T12:09:50.993110Z",
     "iopub.status.busy": "2024-03-02T12:09:50.992392Z",
     "iopub.status.idle": "2024-03-02T12:09:50.997629Z",
     "shell.execute_reply": "2024-03-02T12:09:50.996796Z"
    },
    "id": "G694dS0RDWdl",
    "papermill": {
     "duration": 0.026635,
     "end_time": "2024-03-02T12:09:50.999547",
     "exception": false,
     "start_time": "2024-03-02T12:09:50.972912",
     "status": "completed"
    },
    "tags": []
   },
   "outputs": [],
   "source": [
    "# Create a DataLoader instance for the training dataset\n",
    "from torch.utils.data import DataLoader\n",
    "train_dataloader = DataLoader(train_dataset, batch_size=1, shuffle=True, drop_last=False)\n",
    "test_dataloader = DataLoader(test_dataset, batch_size=1, shuffle=True, drop_last=False)"
   ]
  },
  {
   "cell_type": "code",
   "execution_count": 15,
   "id": "c5a6f126",
   "metadata": {
    "execution": {
     "iopub.execute_input": "2024-03-02T12:09:51.043311Z",
     "iopub.status.busy": "2024-03-02T12:09:51.042678Z",
     "iopub.status.idle": "2024-03-02T12:09:51.162040Z",
     "shell.execute_reply": "2024-03-02T12:09:51.161162Z"
    },
    "id": "oAHAY4LxDYCt",
    "outputId": "67caba6c-e8ea-4c35-a8dd-910e6e9b5edb",
    "papermill": {
     "duration": 0.144286,
     "end_time": "2024-03-02T12:09:51.164575",
     "exception": false,
     "start_time": "2024-03-02T12:09:51.020289",
     "status": "completed"
    },
    "tags": []
   },
   "outputs": [],
   "source": [
    "train_images,train_masks= next(iter(train_dataloader))\n",
    "test_images,test_masks= next(iter(train_dataloader))\n"
   ]
  },
  {
   "cell_type": "code",
   "execution_count": 16,
   "id": "59e3e9d9",
   "metadata": {
    "execution": {
     "iopub.execute_input": "2024-03-02T12:09:51.206097Z",
     "iopub.status.busy": "2024-03-02T12:09:51.205775Z",
     "iopub.status.idle": "2024-03-02T12:09:53.693997Z",
     "shell.execute_reply": "2024-03-02T12:09:53.693204Z"
    },
    "id": "7fUTkHq3DcVV",
    "outputId": "3c84e0d0-27e7-4d24-91a5-1b2829499302",
    "papermill": {
     "duration": 2.511372,
     "end_time": "2024-03-02T12:09:53.696472",
     "exception": false,
     "start_time": "2024-03-02T12:09:51.185100",
     "status": "completed"
    },
    "tags": []
   },
   "outputs": [
    {
     "data": {
      "application/vnd.jupyter.widget-view+json": {
       "model_id": "6253a5397d2d438b880da2a6fd5e1652",
       "version_major": 2,
       "version_minor": 0
      },
      "text/plain": [
       "config.json:   0%|          | 0.00/6.57k [00:00<?, ?B/s]"
      ]
     },
     "metadata": {},
     "output_type": "display_data"
    },
    {
     "data": {
      "application/vnd.jupyter.widget-view+json": {
       "model_id": "4aec5c108f0146b28734b4473bc057a6",
       "version_major": 2,
       "version_minor": 0
      },
      "text/plain": [
       "model.safetensors:   0%|          | 0.00/375M [00:00<?, ?B/s]"
      ]
     },
     "metadata": {},
     "output_type": "display_data"
    }
   ],
   "source": [
    "# Load the model\n",
    "from transformers import SamModel\n",
    "model = SamModel.from_pretrained(\"facebook/sam-vit-base\")\n",
    "\n",
    "# make sure we only compute gradients for mask decoder\n",
    "for name, param in model.named_parameters():\n",
    "  if name.startswith(\"vision_encoder\") or name.startswith(\"prompt_encoder\"):\n",
    "    param.requires_grad_(False)"
   ]
  },
  {
   "cell_type": "code",
   "execution_count": 17,
   "id": "bae62872",
   "metadata": {
    "execution": {
     "iopub.execute_input": "2024-03-02T12:09:53.788953Z",
     "iopub.status.busy": "2024-03-02T12:09:53.788593Z",
     "iopub.status.idle": "2024-03-02T12:10:28.477490Z",
     "shell.execute_reply": "2024-03-02T12:10:28.476585Z"
    },
    "id": "NUQFybjODebi",
    "papermill": {
     "duration": 34.711649,
     "end_time": "2024-03-02T12:10:28.480063",
     "exception": false,
     "start_time": "2024-03-02T12:09:53.768414",
     "status": "completed"
    },
    "tags": []
   },
   "outputs": [],
   "source": [
    "from torch.optim import Adam\n",
    "import monai\n",
    "# Initialize the optimizer and the loss function\n",
    "optimizer = Adam(model.mask_decoder.parameters(), lr=1e-5, weight_decay=0)\n",
    "#Try DiceFocalLoss, FocalLoss, DiceCELoss\n",
    "seg_loss = monai.losses.DiceCELoss(sigmoid=True, squared_pred=True, reduction='mean')"
   ]
  },
  {
   "cell_type": "code",
   "execution_count": 18,
   "id": "2c655068",
   "metadata": {
    "execution": {
     "iopub.execute_input": "2024-03-02T12:10:28.519320Z",
     "iopub.status.busy": "2024-03-02T12:10:28.518555Z",
     "iopub.status.idle": "2024-03-02T12:10:28.524738Z",
     "shell.execute_reply": "2024-03-02T12:10:28.523915Z"
    },
    "papermill": {
     "duration": 0.027333,
     "end_time": "2024-03-02T12:10:28.526532",
     "exception": false,
     "start_time": "2024-03-02T12:10:28.499199",
     "status": "completed"
    },
    "tags": []
   },
   "outputs": [
    {
     "data": {
      "text/plain": [
       "2867"
      ]
     },
     "execution_count": 18,
     "metadata": {},
     "output_type": "execute_result"
    }
   ],
   "source": [
    "len(train_dataloader)"
   ]
  },
  {
   "cell_type": "code",
   "execution_count": 19,
   "id": "590d4103",
   "metadata": {
    "execution": {
     "iopub.execute_input": "2024-03-02T12:10:28.564485Z",
     "iopub.status.busy": "2024-03-02T12:10:28.564213Z",
     "iopub.status.idle": "2024-03-02T22:33:50.517359Z",
     "shell.execute_reply": "2024-03-02T22:33:50.516369Z"
    },
    "id": "XbD2PQlPDgFF",
    "papermill": {
     "duration": 37401.974522,
     "end_time": "2024-03-02T22:33:50.519523",
     "exception": false,
     "start_time": "2024-03-02T12:10:28.545001",
     "status": "completed"
    },
    "tags": []
   },
   "outputs": [
    {
     "name": "stderr",
     "output_type": "stream",
     "text": [
      "100%|██████████| 2867/2867 [14:14<00:00,  3.36it/s]\n"
     ]
    },
    {
     "name": "stdout",
     "output_type": "stream",
     "text": [
      "EPOCH: 0\n",
      "Mean loss: 0.9562750458717346\n"
     ]
    },
    {
     "name": "stderr",
     "output_type": "stream",
     "text": [
      "100%|██████████| 506/506 [02:30<00:00,  3.36it/s]\n"
     ]
    },
    {
     "name": "stdout",
     "output_type": "stream",
     "text": [
      "testMean loss: 0.956024169921875\n",
      "1004.6086316108704 seconds\n"
     ]
    },
    {
     "name": "stderr",
     "output_type": "stream",
     "text": [
      "100%|██████████| 2867/2867 [13:13<00:00,  3.61it/s]\n"
     ]
    },
    {
     "name": "stdout",
     "output_type": "stream",
     "text": [
      "EPOCH: 1\n",
      "Mean loss: 0.9562750458717346\n"
     ]
    },
    {
     "name": "stderr",
     "output_type": "stream",
     "text": [
      "100%|██████████| 506/506 [02:19<00:00,  3.62it/s]\n"
     ]
    },
    {
     "name": "stdout",
     "output_type": "stream",
     "text": [
      "testMean loss: 0.956024169921875\n",
      "1937.785012960434 seconds\n"
     ]
    },
    {
     "name": "stderr",
     "output_type": "stream",
     "text": [
      "100%|██████████| 2867/2867 [13:12<00:00,  3.62it/s]\n"
     ]
    },
    {
     "name": "stdout",
     "output_type": "stream",
     "text": [
      "EPOCH: 2\n",
      "Mean loss: 0.9562750458717346\n"
     ]
    },
    {
     "name": "stderr",
     "output_type": "stream",
     "text": [
      "100%|██████████| 506/506 [02:19<00:00,  3.63it/s]\n"
     ]
    },
    {
     "name": "stdout",
     "output_type": "stream",
     "text": [
      "testMean loss: 0.956024169921875\n",
      "2869.9991636276245 seconds\n"
     ]
    },
    {
     "name": "stderr",
     "output_type": "stream",
     "text": [
      "100%|██████████| 2867/2867 [13:12<00:00,  3.62it/s]\n"
     ]
    },
    {
     "name": "stdout",
     "output_type": "stream",
     "text": [
      "EPOCH: 3\n",
      "Mean loss: 0.9562750458717346\n"
     ]
    },
    {
     "name": "stderr",
     "output_type": "stream",
     "text": [
      "100%|██████████| 506/506 [02:20<00:00,  3.61it/s]\n"
     ]
    },
    {
     "name": "stdout",
     "output_type": "stream",
     "text": [
      "testMean loss: 0.956024169921875\n",
      "3802.417747735977 seconds\n"
     ]
    },
    {
     "name": "stderr",
     "output_type": "stream",
     "text": [
      "100%|██████████| 2867/2867 [13:14<00:00,  3.61it/s]\n"
     ]
    },
    {
     "name": "stdout",
     "output_type": "stream",
     "text": [
      "EPOCH: 4\n",
      "Mean loss: 0.9562750458717346\n"
     ]
    },
    {
     "name": "stderr",
     "output_type": "stream",
     "text": [
      "100%|██████████| 506/506 [02:19<00:00,  3.62it/s]\n"
     ]
    },
    {
     "name": "stdout",
     "output_type": "stream",
     "text": [
      "testMean loss: 0.956024169921875\n",
      "4736.2068972587585 seconds\n"
     ]
    },
    {
     "name": "stderr",
     "output_type": "stream",
     "text": [
      "100%|██████████| 2867/2867 [13:11<00:00,  3.62it/s]\n"
     ]
    },
    {
     "name": "stdout",
     "output_type": "stream",
     "text": [
      "EPOCH: 5\n",
      "Mean loss: 0.9562750458717346\n"
     ]
    },
    {
     "name": "stderr",
     "output_type": "stream",
     "text": [
      "100%|██████████| 506/506 [02:19<00:00,  3.63it/s]\n"
     ]
    },
    {
     "name": "stdout",
     "output_type": "stream",
     "text": [
      "testMean loss: 0.956024169921875\n",
      "5666.907118320465 seconds\n"
     ]
    },
    {
     "name": "stderr",
     "output_type": "stream",
     "text": [
      "100%|██████████| 2867/2867 [13:10<00:00,  3.63it/s]\n"
     ]
    },
    {
     "name": "stdout",
     "output_type": "stream",
     "text": [
      "EPOCH: 6\n",
      "Mean loss: 0.9562750458717346\n"
     ]
    },
    {
     "name": "stderr",
     "output_type": "stream",
     "text": [
      "100%|██████████| 506/506 [02:19<00:00,  3.62it/s]\n"
     ]
    },
    {
     "name": "stdout",
     "output_type": "stream",
     "text": [
      "testMean loss: 0.956024169921875\n",
      "6597.121543884277 seconds\n"
     ]
    },
    {
     "name": "stderr",
     "output_type": "stream",
     "text": [
      "100%|██████████| 2867/2867 [13:12<00:00,  3.62it/s]\n"
     ]
    },
    {
     "name": "stdout",
     "output_type": "stream",
     "text": [
      "EPOCH: 7\n",
      "Mean loss: 0.9562750458717346\n"
     ]
    },
    {
     "name": "stderr",
     "output_type": "stream",
     "text": [
      "100%|██████████| 506/506 [02:19<00:00,  3.62it/s]\n"
     ]
    },
    {
     "name": "stdout",
     "output_type": "stream",
     "text": [
      "testMean loss: 0.956024169921875\n",
      "7529.091294765472 seconds\n"
     ]
    },
    {
     "name": "stderr",
     "output_type": "stream",
     "text": [
      "100%|██████████| 2867/2867 [13:12<00:00,  3.62it/s]\n"
     ]
    },
    {
     "name": "stdout",
     "output_type": "stream",
     "text": [
      "EPOCH: 8\n",
      "Mean loss: 0.9562750458717346\n"
     ]
    },
    {
     "name": "stderr",
     "output_type": "stream",
     "text": [
      "100%|██████████| 506/506 [02:20<00:00,  3.60it/s]\n"
     ]
    },
    {
     "name": "stdout",
     "output_type": "stream",
     "text": [
      "testMean loss: 0.956024169921875\n",
      "8462.415626764297 seconds\n"
     ]
    },
    {
     "name": "stderr",
     "output_type": "stream",
     "text": [
      "100%|██████████| 2867/2867 [13:14<00:00,  3.61it/s]\n"
     ]
    },
    {
     "name": "stdout",
     "output_type": "stream",
     "text": [
      "EPOCH: 9\n",
      "Mean loss: 0.9562750458717346\n"
     ]
    },
    {
     "name": "stderr",
     "output_type": "stream",
     "text": [
      "100%|██████████| 506/506 [02:19<00:00,  3.63it/s]\n"
     ]
    },
    {
     "name": "stdout",
     "output_type": "stream",
     "text": [
      "testMean loss: 0.956024169921875\n",
      "9396.505582094193 seconds\n"
     ]
    },
    {
     "name": "stderr",
     "output_type": "stream",
     "text": [
      "100%|██████████| 2867/2867 [13:13<00:00,  3.61it/s]\n"
     ]
    },
    {
     "name": "stdout",
     "output_type": "stream",
     "text": [
      "EPOCH: 10\n",
      "Mean loss: 0.9562750458717346\n"
     ]
    },
    {
     "name": "stderr",
     "output_type": "stream",
     "text": [
      "100%|██████████| 506/506 [02:20<00:00,  3.59it/s]\n"
     ]
    },
    {
     "name": "stdout",
     "output_type": "stream",
     "text": [
      "testMean loss: 0.956024169921875\n",
      "10330.949962377548 seconds\n"
     ]
    },
    {
     "name": "stderr",
     "output_type": "stream",
     "text": [
      "100%|██████████| 2867/2867 [13:11<00:00,  3.62it/s]\n"
     ]
    },
    {
     "name": "stdout",
     "output_type": "stream",
     "text": [
      "EPOCH: 11\n",
      "Mean loss: 0.9562750458717346\n"
     ]
    },
    {
     "name": "stderr",
     "output_type": "stream",
     "text": [
      "100%|██████████| 506/506 [02:19<00:00,  3.63it/s]\n"
     ]
    },
    {
     "name": "stdout",
     "output_type": "stream",
     "text": [
      "testMean loss: 0.956024169921875\n",
      "11262.03206706047 seconds\n"
     ]
    },
    {
     "name": "stderr",
     "output_type": "stream",
     "text": [
      "100%|██████████| 2867/2867 [13:09<00:00,  3.63it/s]\n"
     ]
    },
    {
     "name": "stdout",
     "output_type": "stream",
     "text": [
      "EPOCH: 12\n",
      "Mean loss: 0.9562750458717346\n"
     ]
    },
    {
     "name": "stderr",
     "output_type": "stream",
     "text": [
      "100%|██████████| 506/506 [02:19<00:00,  3.64it/s]\n"
     ]
    },
    {
     "name": "stdout",
     "output_type": "stream",
     "text": [
      "testMean loss: 0.956024169921875\n",
      "12190.580993890762 seconds\n"
     ]
    },
    {
     "name": "stderr",
     "output_type": "stream",
     "text": [
      "100%|██████████| 2867/2867 [13:09<00:00,  3.63it/s]\n"
     ]
    },
    {
     "name": "stdout",
     "output_type": "stream",
     "text": [
      "EPOCH: 13\n",
      "Mean loss: 0.9562750458717346\n"
     ]
    },
    {
     "name": "stderr",
     "output_type": "stream",
     "text": [
      "100%|██████████| 506/506 [02:19<00:00,  3.63it/s]\n"
     ]
    },
    {
     "name": "stdout",
     "output_type": "stream",
     "text": [
      "testMean loss: 0.956024169921875\n",
      "13119.626222610474 seconds\n"
     ]
    },
    {
     "name": "stderr",
     "output_type": "stream",
     "text": [
      "100%|██████████| 2867/2867 [13:10<00:00,  3.63it/s]\n"
     ]
    },
    {
     "name": "stdout",
     "output_type": "stream",
     "text": [
      "EPOCH: 14\n",
      "Mean loss: 0.9562750458717346\n"
     ]
    },
    {
     "name": "stderr",
     "output_type": "stream",
     "text": [
      "100%|██████████| 506/506 [02:19<00:00,  3.62it/s]\n"
     ]
    },
    {
     "name": "stdout",
     "output_type": "stream",
     "text": [
      "testMean loss: 0.956024169921875\n",
      "14049.777207136154 seconds\n"
     ]
    },
    {
     "name": "stderr",
     "output_type": "stream",
     "text": [
      "100%|██████████| 2867/2867 [13:11<00:00,  3.62it/s]\n"
     ]
    },
    {
     "name": "stdout",
     "output_type": "stream",
     "text": [
      "EPOCH: 15\n",
      "Mean loss: 0.9562750458717346\n"
     ]
    },
    {
     "name": "stderr",
     "output_type": "stream",
     "text": [
      "100%|██████████| 506/506 [02:19<00:00,  3.64it/s]\n"
     ]
    },
    {
     "name": "stdout",
     "output_type": "stream",
     "text": [
      "testMean loss: 0.956024169921875\n",
      "14980.317026615143 seconds\n"
     ]
    },
    {
     "name": "stderr",
     "output_type": "stream",
     "text": [
      "100%|██████████| 2867/2867 [13:13<00:00,  3.62it/s]\n"
     ]
    },
    {
     "name": "stdout",
     "output_type": "stream",
     "text": [
      "EPOCH: 16\n",
      "Mean loss: 0.9562750458717346\n"
     ]
    },
    {
     "name": "stderr",
     "output_type": "stream",
     "text": [
      "100%|██████████| 506/506 [02:19<00:00,  3.61it/s]\n"
     ]
    },
    {
     "name": "stdout",
     "output_type": "stream",
     "text": [
      "testMean loss: 0.956024169921875\n",
      "15913.353643655777 seconds\n"
     ]
    },
    {
     "name": "stderr",
     "output_type": "stream",
     "text": [
      "100%|██████████| 2867/2867 [13:15<00:00,  3.61it/s]\n"
     ]
    },
    {
     "name": "stdout",
     "output_type": "stream",
     "text": [
      "EPOCH: 17\n",
      "Mean loss: 0.9562750458717346\n"
     ]
    },
    {
     "name": "stderr",
     "output_type": "stream",
     "text": [
      "100%|██████████| 506/506 [02:20<00:00,  3.60it/s]\n"
     ]
    },
    {
     "name": "stdout",
     "output_type": "stream",
     "text": [
      "testMean loss: 0.956024169921875\n",
      "16848.87650322914 seconds\n"
     ]
    },
    {
     "name": "stderr",
     "output_type": "stream",
     "text": [
      "100%|██████████| 2867/2867 [13:16<00:00,  3.60it/s]\n"
     ]
    },
    {
     "name": "stdout",
     "output_type": "stream",
     "text": [
      "EPOCH: 18\n",
      "Mean loss: 0.9562750458717346\n"
     ]
    },
    {
     "name": "stderr",
     "output_type": "stream",
     "text": [
      "100%|██████████| 506/506 [02:20<00:00,  3.60it/s]\n"
     ]
    },
    {
     "name": "stdout",
     "output_type": "stream",
     "text": [
      "testMean loss: 0.956024169921875\n",
      "17785.874715566635 seconds\n"
     ]
    },
    {
     "name": "stderr",
     "output_type": "stream",
     "text": [
      "100%|██████████| 2867/2867 [13:16<00:00,  3.60it/s]\n"
     ]
    },
    {
     "name": "stdout",
     "output_type": "stream",
     "text": [
      "EPOCH: 19\n",
      "Mean loss: 0.9562750458717346\n"
     ]
    },
    {
     "name": "stderr",
     "output_type": "stream",
     "text": [
      "100%|██████████| 506/506 [02:20<00:00,  3.60it/s]\n"
     ]
    },
    {
     "name": "stdout",
     "output_type": "stream",
     "text": [
      "testMean loss: 0.956024169921875\n",
      "18723.240355968475 seconds\n"
     ]
    },
    {
     "name": "stderr",
     "output_type": "stream",
     "text": [
      "100%|██████████| 2867/2867 [13:17<00:00,  3.60it/s]\n"
     ]
    },
    {
     "name": "stdout",
     "output_type": "stream",
     "text": [
      "EPOCH: 20\n",
      "Mean loss: 0.9562750458717346\n"
     ]
    },
    {
     "name": "stderr",
     "output_type": "stream",
     "text": [
      "100%|██████████| 506/506 [02:20<00:00,  3.60it/s]\n"
     ]
    },
    {
     "name": "stdout",
     "output_type": "stream",
     "text": [
      "testMean loss: 0.956024169921875\n",
      "19661.335547447205 seconds\n"
     ]
    },
    {
     "name": "stderr",
     "output_type": "stream",
     "text": [
      "100%|██████████| 2867/2867 [13:15<00:00,  3.60it/s]\n"
     ]
    },
    {
     "name": "stdout",
     "output_type": "stream",
     "text": [
      "EPOCH: 21\n",
      "Mean loss: 0.9562750458717346\n"
     ]
    },
    {
     "name": "stderr",
     "output_type": "stream",
     "text": [
      "100%|██████████| 506/506 [02:20<00:00,  3.60it/s]\n"
     ]
    },
    {
     "name": "stdout",
     "output_type": "stream",
     "text": [
      "testMean loss: 0.956024169921875\n",
      "20597.773592233658 seconds\n"
     ]
    },
    {
     "name": "stderr",
     "output_type": "stream",
     "text": [
      "100%|██████████| 2867/2867 [13:15<00:00,  3.60it/s]\n"
     ]
    },
    {
     "name": "stdout",
     "output_type": "stream",
     "text": [
      "EPOCH: 22\n",
      "Mean loss: 0.9562750458717346\n"
     ]
    },
    {
     "name": "stderr",
     "output_type": "stream",
     "text": [
      "100%|██████████| 506/506 [02:20<00:00,  3.60it/s]\n"
     ]
    },
    {
     "name": "stdout",
     "output_type": "stream",
     "text": [
      "testMean loss: 0.956024169921875\n",
      "21534.41902732849 seconds\n"
     ]
    },
    {
     "name": "stderr",
     "output_type": "stream",
     "text": [
      "100%|██████████| 2867/2867 [13:16<00:00,  3.60it/s]\n"
     ]
    },
    {
     "name": "stdout",
     "output_type": "stream",
     "text": [
      "EPOCH: 23\n",
      "Mean loss: 0.9562750458717346\n"
     ]
    },
    {
     "name": "stderr",
     "output_type": "stream",
     "text": [
      "100%|██████████| 506/506 [02:20<00:00,  3.59it/s]\n"
     ]
    },
    {
     "name": "stdout",
     "output_type": "stream",
     "text": [
      "testMean loss: 0.956024169921875\n",
      "22471.967703580856 seconds\n"
     ]
    },
    {
     "name": "stderr",
     "output_type": "stream",
     "text": [
      "100%|██████████| 2867/2867 [13:17<00:00,  3.60it/s]\n"
     ]
    },
    {
     "name": "stdout",
     "output_type": "stream",
     "text": [
      "EPOCH: 24\n",
      "Mean loss: 0.9562750458717346\n"
     ]
    },
    {
     "name": "stderr",
     "output_type": "stream",
     "text": [
      "100%|██████████| 506/506 [02:20<00:00,  3.60it/s]\n"
     ]
    },
    {
     "name": "stdout",
     "output_type": "stream",
     "text": [
      "testMean loss: 0.956024169921875\n",
      "23409.85106611252 seconds\n"
     ]
    },
    {
     "name": "stderr",
     "output_type": "stream",
     "text": [
      "100%|██████████| 2867/2867 [13:14<00:00,  3.61it/s]\n"
     ]
    },
    {
     "name": "stdout",
     "output_type": "stream",
     "text": [
      "EPOCH: 25\n",
      "Mean loss: 0.9562750458717346\n"
     ]
    },
    {
     "name": "stderr",
     "output_type": "stream",
     "text": [
      "100%|██████████| 506/506 [02:20<00:00,  3.60it/s]\n"
     ]
    },
    {
     "name": "stdout",
     "output_type": "stream",
     "text": [
      "testMean loss: 0.956024169921875\n",
      "24345.148942947388 seconds\n"
     ]
    },
    {
     "name": "stderr",
     "output_type": "stream",
     "text": [
      "100%|██████████| 2867/2867 [13:15<00:00,  3.60it/s]\n"
     ]
    },
    {
     "name": "stdout",
     "output_type": "stream",
     "text": [
      "EPOCH: 26\n",
      "Mean loss: 0.9562750458717346\n"
     ]
    },
    {
     "name": "stderr",
     "output_type": "stream",
     "text": [
      "100%|██████████| 506/506 [02:20<00:00,  3.60it/s]\n"
     ]
    },
    {
     "name": "stdout",
     "output_type": "stream",
     "text": [
      "testMean loss: 0.956024169921875\n",
      "25281.367366313934 seconds\n"
     ]
    },
    {
     "name": "stderr",
     "output_type": "stream",
     "text": [
      "100%|██████████| 2867/2867 [13:15<00:00,  3.61it/s]\n"
     ]
    },
    {
     "name": "stdout",
     "output_type": "stream",
     "text": [
      "EPOCH: 27\n",
      "Mean loss: 0.9562750458717346\n"
     ]
    },
    {
     "name": "stderr",
     "output_type": "stream",
     "text": [
      "100%|██████████| 506/506 [02:19<00:00,  3.63it/s]\n"
     ]
    },
    {
     "name": "stdout",
     "output_type": "stream",
     "text": [
      "testMean loss: 0.956024169921875\n",
      "26215.992999315262 seconds\n"
     ]
    },
    {
     "name": "stderr",
     "output_type": "stream",
     "text": [
      "100%|██████████| 2867/2867 [13:10<00:00,  3.63it/s]\n"
     ]
    },
    {
     "name": "stdout",
     "output_type": "stream",
     "text": [
      "EPOCH: 28\n",
      "Mean loss: 0.9562750458717346\n"
     ]
    },
    {
     "name": "stderr",
     "output_type": "stream",
     "text": [
      "100%|██████████| 506/506 [02:18<00:00,  3.64it/s]\n"
     ]
    },
    {
     "name": "stdout",
     "output_type": "stream",
     "text": [
      "testMean loss: 0.956024169921875\n",
      "27145.42052102089 seconds\n"
     ]
    },
    {
     "name": "stderr",
     "output_type": "stream",
     "text": [
      "100%|██████████| 2867/2867 [13:09<00:00,  3.63it/s]\n"
     ]
    },
    {
     "name": "stdout",
     "output_type": "stream",
     "text": [
      "EPOCH: 29\n",
      "Mean loss: 0.9562750458717346\n"
     ]
    },
    {
     "name": "stderr",
     "output_type": "stream",
     "text": [
      "100%|██████████| 506/506 [02:19<00:00,  3.62it/s]\n"
     ]
    },
    {
     "name": "stdout",
     "output_type": "stream",
     "text": [
      "testMean loss: 0.956024169921875\n",
      "28074.463433504105 seconds\n"
     ]
    },
    {
     "name": "stderr",
     "output_type": "stream",
     "text": [
      "100%|██████████| 2867/2867 [13:11<00:00,  3.62it/s]\n"
     ]
    },
    {
     "name": "stdout",
     "output_type": "stream",
     "text": [
      "EPOCH: 30\n",
      "Mean loss: 0.9562750458717346\n"
     ]
    },
    {
     "name": "stderr",
     "output_type": "stream",
     "text": [
      "100%|██████████| 506/506 [02:19<00:00,  3.62it/s]\n"
     ]
    },
    {
     "name": "stdout",
     "output_type": "stream",
     "text": [
      "testMean loss: 0.956024169921875\n",
      "29005.67502593994 seconds\n"
     ]
    },
    {
     "name": "stderr",
     "output_type": "stream",
     "text": [
      "100%|██████████| 2867/2867 [13:11<00:00,  3.62it/s]\n"
     ]
    },
    {
     "name": "stdout",
     "output_type": "stream",
     "text": [
      "EPOCH: 31\n",
      "Mean loss: 0.9562750458717346\n"
     ]
    },
    {
     "name": "stderr",
     "output_type": "stream",
     "text": [
      "100%|██████████| 506/506 [02:19<00:00,  3.62it/s]\n"
     ]
    },
    {
     "name": "stdout",
     "output_type": "stream",
     "text": [
      "testMean loss: 0.956024169921875\n",
      "29937.28805398941 seconds\n"
     ]
    },
    {
     "name": "stderr",
     "output_type": "stream",
     "text": [
      "100%|██████████| 2867/2867 [13:12<00:00,  3.62it/s]\n"
     ]
    },
    {
     "name": "stdout",
     "output_type": "stream",
     "text": [
      "EPOCH: 32\n",
      "Mean loss: 0.9562750458717346\n"
     ]
    },
    {
     "name": "stderr",
     "output_type": "stream",
     "text": [
      "100%|██████████| 506/506 [02:19<00:00,  3.63it/s]\n"
     ]
    },
    {
     "name": "stdout",
     "output_type": "stream",
     "text": [
      "testMean loss: 0.956024169921875\n",
      "30869.484068393707 seconds\n"
     ]
    },
    {
     "name": "stderr",
     "output_type": "stream",
     "text": [
      "100%|██████████| 2867/2867 [13:11<00:00,  3.62it/s]\n"
     ]
    },
    {
     "name": "stdout",
     "output_type": "stream",
     "text": [
      "EPOCH: 33\n",
      "Mean loss: 0.9562750458717346\n"
     ]
    },
    {
     "name": "stderr",
     "output_type": "stream",
     "text": [
      "100%|██████████| 506/506 [02:19<00:00,  3.63it/s]\n"
     ]
    },
    {
     "name": "stdout",
     "output_type": "stream",
     "text": [
      "testMean loss: 0.956024169921875\n",
      "31800.618316411972 seconds\n"
     ]
    },
    {
     "name": "stderr",
     "output_type": "stream",
     "text": [
      "100%|██████████| 2867/2867 [13:12<00:00,  3.62it/s]\n"
     ]
    },
    {
     "name": "stdout",
     "output_type": "stream",
     "text": [
      "EPOCH: 34\n",
      "Mean loss: 0.9562750458717346\n"
     ]
    },
    {
     "name": "stderr",
     "output_type": "stream",
     "text": [
      "100%|██████████| 506/506 [02:20<00:00,  3.61it/s]\n"
     ]
    },
    {
     "name": "stdout",
     "output_type": "stream",
     "text": [
      "testMean loss: 0.956024169921875\n",
      "32732.95151424408 seconds\n"
     ]
    },
    {
     "name": "stderr",
     "output_type": "stream",
     "text": [
      "100%|██████████| 2867/2867 [13:13<00:00,  3.61it/s]\n"
     ]
    },
    {
     "name": "stdout",
     "output_type": "stream",
     "text": [
      "EPOCH: 35\n",
      "Mean loss: 0.9562750458717346\n"
     ]
    },
    {
     "name": "stderr",
     "output_type": "stream",
     "text": [
      "100%|██████████| 506/506 [02:19<00:00,  3.62it/s]\n"
     ]
    },
    {
     "name": "stdout",
     "output_type": "stream",
     "text": [
      "testMean loss: 0.956024169921875\n",
      "33665.936514377594 seconds\n"
     ]
    },
    {
     "name": "stderr",
     "output_type": "stream",
     "text": [
      "100%|██████████| 2867/2867 [13:18<00:00,  3.59it/s]\n"
     ]
    },
    {
     "name": "stdout",
     "output_type": "stream",
     "text": [
      "EPOCH: 36\n",
      "Mean loss: 0.9562750458717346\n"
     ]
    },
    {
     "name": "stderr",
     "output_type": "stream",
     "text": [
      "100%|██████████| 506/506 [02:20<00:00,  3.59it/s]\n"
     ]
    },
    {
     "name": "stdout",
     "output_type": "stream",
     "text": [
      "testMean loss: 0.956024169921875\n",
      "34605.01956343651 seconds\n"
     ]
    },
    {
     "name": "stderr",
     "output_type": "stream",
     "text": [
      "100%|██████████| 2867/2867 [13:10<00:00,  3.62it/s]\n"
     ]
    },
    {
     "name": "stdout",
     "output_type": "stream",
     "text": [
      "EPOCH: 37\n",
      "Mean loss: 0.9562750458717346\n"
     ]
    },
    {
     "name": "stderr",
     "output_type": "stream",
     "text": [
      "100%|██████████| 506/506 [02:20<00:00,  3.59it/s]\n"
     ]
    },
    {
     "name": "stdout",
     "output_type": "stream",
     "text": [
      "testMean loss: 0.956024169921875\n",
      "35536.75856947899 seconds\n"
     ]
    },
    {
     "name": "stderr",
     "output_type": "stream",
     "text": [
      "100%|██████████| 2867/2867 [13:16<00:00,  3.60it/s]\n"
     ]
    },
    {
     "name": "stdout",
     "output_type": "stream",
     "text": [
      "EPOCH: 38\n",
      "Mean loss: 0.9562750458717346\n"
     ]
    },
    {
     "name": "stderr",
     "output_type": "stream",
     "text": [
      "100%|██████████| 506/506 [02:19<00:00,  3.63it/s]\n"
     ]
    },
    {
     "name": "stdout",
     "output_type": "stream",
     "text": [
      "testMean loss: 0.956024169921875\n",
      "36472.71177625656 seconds\n"
     ]
    },
    {
     "name": "stderr",
     "output_type": "stream",
     "text": [
      "100%|██████████| 2867/2867 [13:09<00:00,  3.63it/s]\n"
     ]
    },
    {
     "name": "stdout",
     "output_type": "stream",
     "text": [
      "EPOCH: 39\n",
      "Mean loss: 0.9562750458717346\n"
     ]
    },
    {
     "name": "stderr",
     "output_type": "stream",
     "text": [
      "100%|██████████| 506/506 [02:19<00:00,  3.64it/s]"
     ]
    },
    {
     "name": "stdout",
     "output_type": "stream",
     "text": [
      "testMean loss: 0.956024169921875\n",
      "37401.65068769455 seconds\n"
     ]
    },
    {
     "name": "stderr",
     "output_type": "stream",
     "text": [
      "\n"
     ]
    }
   ],
   "source": [
    "from tqdm import tqdm\n",
    "from statistics import mean\n",
    "import torch\n",
    "from torch import nn\n",
    "import time\n",
    "\n",
    "from torch.nn.functional import threshold, normalize\n",
    "\n",
    "#Training loop\n",
    "num_epochs = 40\n",
    "\n",
    "device = \"cuda\" if torch.cuda.is_available() else \"cpu\"\n",
    "model.to(device)\n",
    "t0 = time.time()\n",
    "model.train()\n",
    "for epoch in range(num_epochs):\n",
    "    train_epoch_losses = []\n",
    "    for batch in tqdm(train_dataloader):\n",
    "      # forward pass\n",
    "      outputs = model(train_images.to(device),#pixel_values=batch[\"pixel_values\"].to(device),\n",
    "                      #input_boxes=batch[\"input_boxes\"],\n",
    "                      multimask_output=False)\n",
    "        #outputs = model(batch)\n",
    "      \n",
    "      # compute loss\n",
    "      ##################postprocess###################\n",
    "    \n",
    "      predicted_masks = outputs.pred_masks.squeeze(1)\n",
    "      predicted_masks = nn.functional.interpolate(predicted_masks,\n",
    "                size=(1024,1024),\n",
    "                mode='bilinear',\n",
    "                align_corners=False)\n",
    "      #.squeeze(1)\n",
    "      \n",
    "      ##################postprocess###################\n",
    "        \n",
    "        \n",
    "      ground_truth_masks = train_masks.float().to(device)\n",
    "      loss = seg_loss(predicted_masks, ground_truth_masks)#.unsqueeze(1))\n",
    "\n",
    "      # backward pass (compute gradients of parameters w.r.t. loss)\n",
    "      optimizer.zero_grad()\n",
    "      #loss.backward()\n",
    "\n",
    "      # optimize\n",
    "      optimizer.step()\n",
    "      train_epoch_losses.append(loss.item())\n",
    "\n",
    "    print(f'EPOCH: {epoch}')\n",
    "    print(f'Mean loss: {mean(train_epoch_losses)}')\n",
    "#epoch_loss = 0.0\n",
    "\n",
    "    model.eval()\n",
    "    test_epoch_losses = []\n",
    "    for batch in tqdm(test_dataloader):\n",
    "      # forward pass\n",
    "      test_outputs = model(test_images.to(device),#pixel_values=batch[\"pixel_values\"].to(device),\n",
    "                      #input_boxes=batch[\"input_boxes\"],\n",
    "                      multimask_output=False)\n",
    "        #outputs = model(batch)\n",
    "      \n",
    "      # compute loss\n",
    "      ##################postprocess###################\n",
    "    \n",
    "      test_predicted_masks = test_outputs.pred_masks.squeeze(1)\n",
    "      test_predicted_masks = nn.functional.interpolate(test_predicted_masks,\n",
    "                size=(1024,1024),\n",
    "                mode='bilinear',\n",
    "                align_corners=False)\n",
    "      #.squeeze(1)\n",
    "      \n",
    "      ##################postprocess###################\n",
    "        \n",
    "        \n",
    "      ground_truth_masks = test_masks.float().to(device)\n",
    "      loss = seg_loss(predicted_masks, ground_truth_masks)#.unsqueeze(1))\n",
    "\n",
    "      # backward pass (compute gradients of parameters w.r.t. loss)\n",
    "      #optimizer.zero_grad()\n",
    "      #loss.backward()\n",
    "\n",
    "      # optimize\n",
    "      #optimizer.step()\n",
    "      test_epoch_losses.append(loss.item())\n",
    "\n",
    "    #print(f'EPOCH: {epoch}')\n",
    "    print(f'testMean loss: {mean(test_epoch_losses)}')\n",
    "    print('{} seconds'.format(time.time() - t0))# compute time in each epoch\n"
   ]
  },
  {
   "cell_type": "code",
   "execution_count": 20,
   "id": "4298fe53",
   "metadata": {
    "execution": {
     "iopub.execute_input": "2024-03-02T22:34:12.959099Z",
     "iopub.status.busy": "2024-03-02T22:34:12.958734Z",
     "iopub.status.idle": "2024-03-02T22:34:13.445772Z",
     "shell.execute_reply": "2024-03-02T22:34:13.444957Z"
    },
    "id": "7zm89g_tbcdN",
    "papermill": {
     "duration": 11.787141,
     "end_time": "2024-03-02T22:34:13.447943",
     "exception": false,
     "start_time": "2024-03-02T22:34:01.660802",
     "status": "completed"
    },
    "tags": []
   },
   "outputs": [],
   "source": [
    "# Save the model's state dictionary to a file\n",
    "torch.save(model.state_dict(), \"/kaggle/working/mito_model_checkpoint2.pth\")"
   ]
  },
  {
   "cell_type": "code",
   "execution_count": 21,
   "id": "cc2d592b",
   "metadata": {
    "execution": {
     "iopub.execute_input": "2024-03-02T22:34:36.004347Z",
     "iopub.status.busy": "2024-03-02T22:34:36.003959Z",
     "iopub.status.idle": "2024-03-02T22:34:36.500417Z",
     "shell.execute_reply": "2024-03-02T22:34:36.499393Z"
    },
    "papermill": {
     "duration": 11.776242,
     "end_time": "2024-03-02T22:34:36.502786",
     "exception": false,
     "start_time": "2024-03-02T22:34:24.726544",
     "status": "completed"
    },
    "tags": []
   },
   "outputs": [],
   "source": [
    "#Save/Load Entire Model\n",
    "torch.save(model, \"/kaggle/working/Bes_SAM_segmenter_model2.pth\")"
   ]
  },
  {
   "cell_type": "markdown",
   "id": "cb3e6bfc",
   "metadata": {
    "id": "zEcD7ScIIJlt",
    "papermill": {
     "duration": 11.342029,
     "end_time": "2024-03-02T22:34:58.940371",
     "exception": false,
     "start_time": "2024-03-02T22:34:47.598342",
     "status": "completed"
    },
    "tags": []
   },
   "source": [
    "**Inference**"
   ]
  },
  {
   "cell_type": "markdown",
   "id": "d129e467",
   "metadata": {
    "execution": {
     "iopub.status.busy": "2024-03-01T10:32:43.868737Z",
     "iopub.status.idle": "2024-03-01T10:32:43.869100Z",
     "shell.execute_reply": "2024-03-01T10:32:43.868939Z",
     "shell.execute_reply.started": "2024-03-01T10:32:43.868923Z"
    },
    "id": "8XrMxADfcK3F",
    "papermill": {
     "duration": 11.363843,
     "end_time": "2024-03-02T22:35:21.571132",
     "exception": false,
     "start_time": "2024-03-02T22:35:10.207289",
     "status": "completed"
    },
    "tags": []
   },
   "source": [
    "from transformers import SamModel, SamConfig, SamProcessor\n",
    "import torch"
   ]
  },
  {
   "cell_type": "markdown",
   "id": "db70eaa2",
   "metadata": {
    "execution": {
     "iopub.status.busy": "2024-03-01T10:32:43.872537Z",
     "iopub.status.idle": "2024-03-01T10:32:43.872911Z",
     "shell.execute_reply": "2024-03-01T10:32:43.872764Z",
     "shell.execute_reply.started": "2024-03-01T10:32:43.872750Z"
    },
    "id": "S_btfQPQcKww",
    "outputId": "d05c7d1a-5da6-4ca7-c495-a63fab0409ad",
    "papermill": {
     "duration": 11.065874,
     "end_time": "2024-03-02T22:35:43.938393",
     "exception": false,
     "start_time": "2024-03-02T22:35:32.872519",
     "status": "completed"
    },
    "tags": []
   },
   "source": [
    "# Load the model configuration\n",
    "model_config = SamConfig.from_pretrained(\"facebook/sam-vit-base\")\n",
    "processor = SamProcessor.from_pretrained(\"facebook/sam-vit-base\")\n",
    "\n",
    "# Create an instance of the model architecture with the loaded configuration\n",
    "my_mito_model = SamModel(config=model_config)\n",
    "#Update the model by loading the weights from saved file.\n",
    "my_mito_model.load_state_dict(torch.load(\"/kaggle/working/mito_full_data_10_epochs_model_checkpoint.pth\"))"
   ]
  },
  {
   "cell_type": "markdown",
   "id": "93a59d09",
   "metadata": {
    "execution": {
     "iopub.status.busy": "2024-03-01T10:32:43.874185Z",
     "iopub.status.idle": "2024-03-01T10:32:43.874518Z",
     "shell.execute_reply": "2024-03-01T10:32:43.874368Z",
     "shell.execute_reply.started": "2024-03-01T10:32:43.874355Z"
    },
    "id": "HCF1o3BVTVic",
    "outputId": "99f87f46-7bf1-407b-c2ee-20167206bf42",
    "papermill": {
     "duration": 11.082933,
     "end_time": "2024-03-02T22:36:06.265383",
     "exception": false,
     "start_time": "2024-03-02T22:35:55.182450",
     "status": "completed"
    },
    "tags": []
   },
   "source": [
    "# set the device to cuda if available, otherwise use cpu\n",
    "device = \"cuda\" if torch.cuda.is_available() else \"cpu\"\n",
    "my_mito_model.to(device)"
   ]
  },
  {
   "cell_type": "markdown",
   "id": "d92ec906",
   "metadata": {
    "execution": {
     "iopub.status.busy": "2024-03-01T09:08:28.102723Z",
     "iopub.status.idle": "2024-03-01T09:08:28.103182Z",
     "shell.execute_reply": "2024-03-01T09:08:28.102969Z",
     "shell.execute_reply.started": "2024-03-01T09:08:28.102951Z"
    },
    "id": "c5tPMMIBeBxv",
    "outputId": "31534223-5b09-437f-a666-f752b23a2b0e",
    "papermill": {
     "duration": 11.090834,
     "end_time": "2024-03-02T22:36:28.718035",
     "exception": false,
     "start_time": "2024-03-02T22:36:17.627201",
     "status": "completed"
    },
    "tags": []
   },
   "source": [
    "import numpy as np\n",
    "import random\n",
    "import torch\n",
    "import matplotlib.pyplot as plt\n",
    "\n",
    "# let's take a random training example\n",
    "idx = random.randint(0, filtered_images.shape[0]-1)\n",
    "\n",
    "# load image\n",
    "test_image = dataset[idx][\"image\"]\n",
    "\n",
    "# get box prompt based on ground truth segmentation map\n",
    "ground_truth_mask = np.array(dataset[idx][\"label\"])\n",
    "prompt = get_bounding_box(ground_truth_mask)\n",
    "\n",
    "# prepare image + box prompt for the model\n",
    "inputs = processor(test_image, input_boxes=[[prompt]], return_tensors=\"pt\")\n",
    "\n",
    "# Move the input tensor to the GPU if it's not already there\n",
    "inputs = {k: v.to(device) for k, v in inputs.items()}\n",
    "\n",
    "my_mito_model.eval()\n",
    "\n",
    "# forward pass\n",
    "with torch.no_grad():\n",
    "    outputs = my_mito_model(**inputs, multimask_output=False)\n",
    "\n",
    "# apply sigmoid\n",
    "medsam_seg_prob = torch.sigmoid(outputs.pred_masks.squeeze(1))\n",
    "# convert soft mask to hard mask\n",
    "medsam_seg_prob = medsam_seg_prob.cpu().numpy().squeeze()\n",
    "medsam_seg = (medsam_seg_prob > 0.5).astype(np.uint8)\n",
    "\n",
    "\n",
    "fig, axes = plt.subplots(1, 3, figsize=(15, 5))\n",
    "\n",
    "# Plot the first image on the left\n",
    "axes[0].imshow(np.array(test_image), cmap='gray')  # Assuming the first image is grayscale\n",
    "axes[0].set_title(\"Image\")\n",
    "\n",
    "# Plot the second image on the right\n",
    "axes[1].imshow(medsam_seg, cmap='gray')  # Assuming the second image is grayscale\n",
    "axes[1].set_title(\"Mask\")\n",
    "\n",
    "# Plot the second image on the right\n",
    "axes[2].imshow(medsam_seg_prob)  # Assuming the second image is grayscale\n",
    "axes[2].set_title(\"Probability Map\")\n",
    "\n",
    "# Hide axis ticks and labels\n",
    "for ax in axes:\n",
    "    ax.set_xticks([])\n",
    "    ax.set_yticks([])\n",
    "    ax.set_xticklabels([])\n",
    "    ax.set_yticklabels([])\n",
    "\n",
    "# Display the images side by side\n",
    "plt.show()\n"
   ]
  },
  {
   "cell_type": "markdown",
   "id": "ca7a5418",
   "metadata": {
    "id": "IMlaxunPfP0h",
    "papermill": {
     "duration": 11.258077,
     "end_time": "2024-03-02T22:36:51.204622",
     "exception": false,
     "start_time": "2024-03-02T22:36:39.946545",
     "status": "completed"
    },
    "tags": []
   },
   "source": [
    "Now, let us load a new image and segment it using our trained model. NOte that we need to provide some prompt. Since we do not know where the objects are going to be we cannot supply bounding boxes. So let us provide a grid of points as our prompt."
   ]
  },
  {
   "cell_type": "markdown",
   "id": "f16f3b27",
   "metadata": {
    "execution": {
     "iopub.status.busy": "2024-03-01T10:32:43.875818Z",
     "iopub.status.idle": "2024-03-01T10:32:43.876186Z",
     "shell.execute_reply": "2024-03-01T10:32:43.876007Z",
     "shell.execute_reply.started": "2024-03-01T10:32:43.875992Z"
    },
    "id": "VN3AXZpTAW85",
    "papermill": {
     "duration": 11.257703,
     "end_time": "2024-03-02T22:37:13.565612",
     "exception": false,
     "start_time": "2024-03-02T22:37:02.307909",
     "status": "completed"
    },
    "tags": []
   },
   "source": [
    "#Apply a trained model on large image\n",
    "large_test_images = tifffile.imread(\"/content/drive/MyDrive/ColabNotebooks/data/mitochondria/small_dataset_for_training/images/12_training_mito_images.tif\")\n",
    "large_test_image = large_test_images[1]\n",
    "patches = patchify(large_test_image, (256, 256), step=256)  #Step=256 for 256 patches means no overlap\n"
   ]
  },
  {
   "cell_type": "markdown",
   "id": "90d761ca",
   "metadata": {
    "execution": {
     "iopub.status.busy": "2024-03-01T10:32:43.877387Z",
     "iopub.status.idle": "2024-03-01T10:32:43.877720Z",
     "shell.execute_reply": "2024-03-01T10:32:43.877565Z",
     "shell.execute_reply.started": "2024-03-01T10:32:43.877551Z"
    },
    "id": "LjzkvN07fiXN",
    "papermill": {
     "duration": 11.271816,
     "end_time": "2024-03-02T22:37:35.873431",
     "exception": false,
     "start_time": "2024-03-02T22:37:24.601615",
     "status": "completed"
    },
    "tags": []
   },
   "source": [
    "\"\"\"\n",
    "input_points (torch.FloatTensor of shape (batch_size, num_points, 2)) —\n",
    "Input 2D spatial points, this is used by the prompt encoder to encode the prompt.\n",
    "Generally yields to much better results. The points can be obtained by passing a\n",
    "list of list of list to the processor that will create corresponding torch tensors\n",
    "of dimension 4. The first dimension is the image batch size, the second dimension\n",
    "is the point batch size (i.e. how many segmentation masks do we want the model to\n",
    "predict per input point), the third dimension is the number of points per segmentation\n",
    "mask (it is possible to pass multiple points for a single mask), and the last dimension\n",
    "is the x (vertical) and y (horizontal) coordinates of the point. If a different number\n",
    "of points is passed either for each image, or for each mask, the processor will create\n",
    "“PAD” points that will correspond to the (0, 0) coordinate, and the computation of the\n",
    "embedding will be skipped for these points using the labels.\n",
    "\n",
    "\"\"\"\n",
    "# Define the size of your array\n",
    "array_size = 256\n",
    "\n",
    "# Define the size of your grid\n",
    "grid_size = 10\n",
    "\n",
    "# Generate the grid points\n",
    "x = np.linspace(0, array_size-1, grid_size)\n",
    "y = np.linspace(0, array_size-1, grid_size)\n",
    "\n",
    "# Generate a grid of coordinates\n",
    "xv, yv = np.meshgrid(x, y)\n",
    "\n",
    "# Convert the numpy arrays to lists\n",
    "xv_list = xv.tolist()\n",
    "yv_list = yv.tolist()\n",
    "\n",
    "# Combine the x and y coordinates into a list of list of lists\n",
    "input_points = [[[int(x), int(y)] for x, y in zip(x_row, y_row)] for x_row, y_row in zip(xv_list, yv_list)]\n",
    "\n",
    "#We need to reshape our nxn grid to the expected shape of the input_points tensor\n",
    "# (batch_size, point_batch_size, num_points_per_image, 2),\n",
    "# where the last dimension of 2 represents the x and y coordinates of each point.\n",
    "#batch_size: The number of images you're processing at once.\n",
    "#point_batch_size: The number of point sets you have for each image.\n",
    "#num_points_per_image: The number of points in each set.\n",
    "input_points = torch.tensor(input_points).view(1, 1, grid_size*grid_size, 2)"
   ]
  },
  {
   "cell_type": "code",
   "execution_count": 22,
   "id": "1ece2eee",
   "metadata": {
    "execution": {
     "iopub.execute_input": "2024-03-02T22:37:58.225275Z",
     "iopub.status.busy": "2024-03-02T22:37:58.224861Z",
     "iopub.status.idle": "2024-03-02T22:37:58.550309Z",
     "shell.execute_reply": "2024-03-02T22:37:58.548946Z"
    },
    "id": "bklL6QTjfmke",
    "outputId": "60f2ba61-899b-432d-e5b6-a4422bb70d8b",
    "papermill": {
     "duration": 11.637258,
     "end_time": "2024-03-02T22:37:58.551977",
     "exception": true,
     "start_time": "2024-03-02T22:37:46.914719",
     "status": "failed"
    },
    "tags": []
   },
   "outputs": [
    {
     "ename": "NameError",
     "evalue": "name 'input_points' is not defined",
     "output_type": "error",
     "traceback": [
      "\u001b[0;31m---------------------------------------------------------------------------\u001b[0m",
      "\u001b[0;31mNameError\u001b[0m                                 Traceback (most recent call last)",
      "Cell \u001b[0;32mIn[22], line 1\u001b[0m\n\u001b[0;32m----> 1\u001b[0m \u001b[38;5;28mprint\u001b[39m(np\u001b[38;5;241m.\u001b[39marray(\u001b[43minput_points\u001b[49m)\u001b[38;5;241m.\u001b[39mshape)\n",
      "\u001b[0;31mNameError\u001b[0m: name 'input_points' is not defined"
     ]
    }
   ],
   "source": [
    "print(np.array(input_points).shape)"
   ]
  },
  {
   "cell_type": "code",
   "execution_count": null,
   "id": "4f27df4a",
   "metadata": {
    "execution": {
     "iopub.status.busy": "2024-03-02T10:44:37.601460Z",
     "iopub.status.idle": "2024-03-02T10:44:37.601947Z",
     "shell.execute_reply": "2024-03-02T10:44:37.601686Z",
     "shell.execute_reply.started": "2024-03-02T10:44:37.601667Z"
    },
    "id": "hh5IldI8fo9d",
    "outputId": "419c48d8-bd81-4b6a-b801-4a4dcdd2ccec",
    "papermill": {
     "duration": null,
     "end_time": null,
     "exception": null,
     "start_time": null,
     "status": "pending"
    },
    "tags": []
   },
   "outputs": [],
   "source": [
    "patches.shape"
   ]
  },
  {
   "cell_type": "markdown",
   "id": "3800cb31",
   "metadata": {
    "execution": {
     "iopub.status.busy": "2024-03-01T10:32:43.882795Z",
     "iopub.status.idle": "2024-03-01T10:32:43.883140Z",
     "shell.execute_reply": "2024-03-01T10:32:43.882981Z",
     "shell.execute_reply.started": "2024-03-01T10:32:43.882968Z"
    },
    "id": "ge99sIzCfqqZ",
    "outputId": "d090218f-de75-471a-d354-0e5c26b87589",
    "papermill": {
     "duration": null,
     "end_time": null,
     "exception": null,
     "start_time": null,
     "status": "pending"
    },
    "tags": []
   },
   "source": [
    "# Select a random patch for segmentation\n",
    "\n",
    "# Compute the total number of 256x256 arrays\n",
    "#num_arrays = patches.shape[0] * patches.shape[1]\n",
    "# Select a random index\n",
    "#index = np.random.choice(num_arrays)\n",
    "# Compute the indices in the original array\n",
    "#i = index // patches.shape[1]\n",
    "#j = index % patches.shape[1]\n",
    "\n",
    "#Or pick a specific patch for study.\n",
    "i, j = 1, 2\n",
    "\n",
    "# Selectelected patch for segmentation\n",
    "random_array = patches[i, j]\n",
    "\n",
    "\n",
    "single_patch = Image.fromarray(random_array)\n",
    "# prepare image for the model\n",
    "\n",
    "#First try without providing any prompt (no bounding box or input_points)\n",
    "#inputs = processor(single_patch, return_tensors=\"pt\")\n",
    "#Now try with bounding boxes. Remember to uncomment.\n",
    "inputs = processor(single_patch, input_points=input_points, return_tensors=\"pt\")\n",
    "\n",
    "# Move the input tensor to the GPU if it's not already there\n",
    "inputs = {k: v.to(device) for k, v in inputs.items()}\n",
    "my_mito_model.eval()\n",
    "\n",
    "\n",
    "# forward pass\n",
    "with torch.no_grad():\n",
    "  outputs = my_mito_model(**inputs, multimask_output=False)\n",
    "\n",
    "# apply sigmoid\n",
    "single_patch_prob = torch.sigmoid(outputs.pred_masks.squeeze(1))\n",
    "# convert soft mask to hard mask\n",
    "single_patch_prob = single_patch_prob.cpu().numpy().squeeze()\n",
    "single_patch_prediction = (single_patch_prob > 0.5).astype(np.uint8)\n",
    "\n",
    "\n",
    "fig, axes = plt.subplots(1, 3, figsize=(15, 5))\n",
    "\n",
    "# Plot the first image on the left\n",
    "axes[0].imshow(np.array(single_patch), cmap='gray')  # Assuming the first image is grayscale\n",
    "axes[0].set_title(\"Image\")\n",
    "\n",
    "# Plot the second image on the right\n",
    "axes[1].imshow(single_patch_prob)  # Assuming the second image is grayscale\n",
    "axes[1].set_title(\"Probability Map\")\n",
    "\n",
    "# Plot the second image on the right\n",
    "axes[2].imshow(single_patch_prediction, cmap='gray')  # Assuming the second image is grayscale\n",
    "axes[2].set_title(\"Prediction\")\n",
    "\n",
    "# Hide axis ticks and labels\n",
    "for ax in axes:\n",
    "    ax.set_xticks([])\n",
    "    ax.set_yticks([])\n",
    "    ax.set_xticklabels([])\n",
    "    ax.set_yticklabels([])\n",
    "\n",
    "# Display the images side by side\n",
    "plt.show()"
   ]
  }
 ],
 "metadata": {
  "accelerator": "GPU",
  "colab": {
   "authorship_tag": "ABX9TyN9OzjHxQWts2l1sdeOykUE",
   "gpuType": "T4",
   "include_colab_link": true,
   "mount_file_id": "1RNJ_BNqGtTHbakzHreEd4FlSatotXurW",
   "provenance": []
  },
  "kaggle": {
   "accelerator": "gpu",
   "dataSources": [
    {
     "datasetId": 4517507,
     "sourceId": 7730946,
     "sourceType": "datasetVersion"
    }
   ],
   "dockerImageVersionId": 30664,
   "isGpuEnabled": true,
   "isInternetEnabled": true,
   "language": "python",
   "sourceType": "notebook"
  },
  "kernelspec": {
   "display_name": "Python 3",
   "language": "python",
   "name": "python3"
  },
  "language_info": {
   "codemirror_mode": {
    "name": "ipython",
    "version": 3
   },
   "file_extension": ".py",
   "mimetype": "text/x-python",
   "name": "python",
   "nbconvert_exporter": "python",
   "pygments_lexer": "ipython3",
   "version": "3.10.13"
  },
  "papermill": {
   "default_parameters": {},
   "duration": 37832.220688,
   "end_time": "2024-03-02T22:38:12.690468",
   "environment_variables": {},
   "exception": true,
   "input_path": "__notebook__.ipynb",
   "output_path": "__notebook__.ipynb",
   "parameters": {},
   "start_time": "2024-03-02T12:07:40.469780",
   "version": "2.5.0"
  },
  "widgets": {
   "application/vnd.jupyter.widget-state+json": {
    "state": {
     "009d4870bd704b30ba8d1c57838d0434": {
      "model_module": "@jupyter-widgets/base",
      "model_module_version": "1.2.0",
      "model_name": "LayoutModel",
      "state": {
       "_model_module": "@jupyter-widgets/base",
       "_model_module_version": "1.2.0",
       "_model_name": "LayoutModel",
       "_view_count": null,
       "_view_module": "@jupyter-widgets/base",
       "_view_module_version": "1.2.0",
       "_view_name": "LayoutView",
       "align_content": null,
       "align_items": null,
       "align_self": null,
       "border": null,
       "bottom": null,
       "display": null,
       "flex": null,
       "flex_flow": null,
       "grid_area": null,
       "grid_auto_columns": null,
       "grid_auto_flow": null,
       "grid_auto_rows": null,
       "grid_column": null,
       "grid_gap": null,
       "grid_row": null,
       "grid_template_areas": null,
       "grid_template_columns": null,
       "grid_template_rows": null,
       "height": null,
       "justify_content": null,
       "justify_items": null,
       "left": null,
       "margin": null,
       "max_height": null,
       "max_width": null,
       "min_height": null,
       "min_width": null,
       "object_fit": null,
       "object_position": null,
       "order": null,
       "overflow": null,
       "overflow_x": null,
       "overflow_y": null,
       "padding": null,
       "right": null,
       "top": null,
       "visibility": null,
       "width": null
      }
     },
     "0c5f60ccf8934512b6cc4a8dd9c49c40": {
      "model_module": "@jupyter-widgets/controls",
      "model_module_version": "1.5.0",
      "model_name": "DescriptionStyleModel",
      "state": {
       "_model_module": "@jupyter-widgets/controls",
       "_model_module_version": "1.5.0",
       "_model_name": "DescriptionStyleModel",
       "_view_count": null,
       "_view_module": "@jupyter-widgets/base",
       "_view_module_version": "1.2.0",
       "_view_name": "StyleView",
       "description_width": ""
      }
     },
     "0d4c3b382ddc474cb2415e3e134a4e45": {
      "model_module": "@jupyter-widgets/base",
      "model_module_version": "1.2.0",
      "model_name": "LayoutModel",
      "state": {
       "_model_module": "@jupyter-widgets/base",
       "_model_module_version": "1.2.0",
       "_model_name": "LayoutModel",
       "_view_count": null,
       "_view_module": "@jupyter-widgets/base",
       "_view_module_version": "1.2.0",
       "_view_name": "LayoutView",
       "align_content": null,
       "align_items": null,
       "align_self": null,
       "border": null,
       "bottom": null,
       "display": null,
       "flex": null,
       "flex_flow": null,
       "grid_area": null,
       "grid_auto_columns": null,
       "grid_auto_flow": null,
       "grid_auto_rows": null,
       "grid_column": null,
       "grid_gap": null,
       "grid_row": null,
       "grid_template_areas": null,
       "grid_template_columns": null,
       "grid_template_rows": null,
       "height": null,
       "justify_content": null,
       "justify_items": null,
       "left": null,
       "margin": null,
       "max_height": null,
       "max_width": null,
       "min_height": null,
       "min_width": null,
       "object_fit": null,
       "object_position": null,
       "order": null,
       "overflow": null,
       "overflow_x": null,
       "overflow_y": null,
       "padding": null,
       "right": null,
       "top": null,
       "visibility": null,
       "width": null
      }
     },
     "14d3c4c08f534ed8b470d0737d6bf911": {
      "model_module": "@jupyter-widgets/base",
      "model_module_version": "1.2.0",
      "model_name": "LayoutModel",
      "state": {
       "_model_module": "@jupyter-widgets/base",
       "_model_module_version": "1.2.0",
       "_model_name": "LayoutModel",
       "_view_count": null,
       "_view_module": "@jupyter-widgets/base",
       "_view_module_version": "1.2.0",
       "_view_name": "LayoutView",
       "align_content": null,
       "align_items": null,
       "align_self": null,
       "border": null,
       "bottom": null,
       "display": null,
       "flex": null,
       "flex_flow": null,
       "grid_area": null,
       "grid_auto_columns": null,
       "grid_auto_flow": null,
       "grid_auto_rows": null,
       "grid_column": null,
       "grid_gap": null,
       "grid_row": null,
       "grid_template_areas": null,
       "grid_template_columns": null,
       "grid_template_rows": null,
       "height": null,
       "justify_content": null,
       "justify_items": null,
       "left": null,
       "margin": null,
       "max_height": null,
       "max_width": null,
       "min_height": null,
       "min_width": null,
       "object_fit": null,
       "object_position": null,
       "order": null,
       "overflow": null,
       "overflow_x": null,
       "overflow_y": null,
       "padding": null,
       "right": null,
       "top": null,
       "visibility": null,
       "width": null
      }
     },
     "20e5f9ff19744c0ab4386aa275d41aee": {
      "model_module": "@jupyter-widgets/controls",
      "model_module_version": "1.5.0",
      "model_name": "FloatProgressModel",
      "state": {
       "_dom_classes": [],
       "_model_module": "@jupyter-widgets/controls",
       "_model_module_version": "1.5.0",
       "_model_name": "FloatProgressModel",
       "_view_count": null,
       "_view_module": "@jupyter-widgets/controls",
       "_view_module_version": "1.5.0",
       "_view_name": "ProgressView",
       "bar_style": "success",
       "description": "",
       "description_tooltip": null,
       "layout": "IPY_MODEL_14d3c4c08f534ed8b470d0737d6bf911",
       "max": 466.0,
       "min": 0.0,
       "orientation": "horizontal",
       "style": "IPY_MODEL_e3b2f8e7b88a4c12819c6d74c9fb2e05",
       "value": 466.0
      }
     },
     "2a96e62a000d43bc8bedc94e91edaa11": {
      "model_module": "@jupyter-widgets/controls",
      "model_module_version": "1.5.0",
      "model_name": "HTMLModel",
      "state": {
       "_dom_classes": [],
       "_model_module": "@jupyter-widgets/controls",
       "_model_module_version": "1.5.0",
       "_model_name": "HTMLModel",
       "_view_count": null,
       "_view_module": "@jupyter-widgets/controls",
       "_view_module_version": "1.5.0",
       "_view_name": "HTMLView",
       "description": "",
       "description_tooltip": null,
       "layout": "IPY_MODEL_0d4c3b382ddc474cb2415e3e134a4e45",
       "placeholder": "​",
       "style": "IPY_MODEL_0c5f60ccf8934512b6cc4a8dd9c49c40",
       "value": "config.json: 100%"
      }
     },
     "350f0950f1b249c49f69e5e7cf6ba354": {
      "model_module": "@jupyter-widgets/base",
      "model_module_version": "1.2.0",
      "model_name": "LayoutModel",
      "state": {
       "_model_module": "@jupyter-widgets/base",
       "_model_module_version": "1.2.0",
       "_model_name": "LayoutModel",
       "_view_count": null,
       "_view_module": "@jupyter-widgets/base",
       "_view_module_version": "1.2.0",
       "_view_name": "LayoutView",
       "align_content": null,
       "align_items": null,
       "align_self": null,
       "border": null,
       "bottom": null,
       "display": null,
       "flex": null,
       "flex_flow": null,
       "grid_area": null,
       "grid_auto_columns": null,
       "grid_auto_flow": null,
       "grid_auto_rows": null,
       "grid_column": null,
       "grid_gap": null,
       "grid_row": null,
       "grid_template_areas": null,
       "grid_template_columns": null,
       "grid_template_rows": null,
       "height": null,
       "justify_content": null,
       "justify_items": null,
       "left": null,
       "margin": null,
       "max_height": null,
       "max_width": null,
       "min_height": null,
       "min_width": null,
       "object_fit": null,
       "object_position": null,
       "order": null,
       "overflow": null,
       "overflow_x": null,
       "overflow_y": null,
       "padding": null,
       "right": null,
       "top": null,
       "visibility": null,
       "width": null
      }
     },
     "3dabb9d16aa6489ba066b9a35e7c5ec8": {
      "model_module": "@jupyter-widgets/controls",
      "model_module_version": "1.5.0",
      "model_name": "ProgressStyleModel",
      "state": {
       "_model_module": "@jupyter-widgets/controls",
       "_model_module_version": "1.5.0",
       "_model_name": "ProgressStyleModel",
       "_view_count": null,
       "_view_module": "@jupyter-widgets/base",
       "_view_module_version": "1.2.0",
       "_view_name": "StyleView",
       "bar_color": null,
       "description_width": ""
      }
     },
     "43936a10e71b4948af677cf3db545d86": {
      "model_module": "@jupyter-widgets/controls",
      "model_module_version": "1.5.0",
      "model_name": "HTMLModel",
      "state": {
       "_dom_classes": [],
       "_model_module": "@jupyter-widgets/controls",
       "_model_module_version": "1.5.0",
       "_model_name": "HTMLModel",
       "_view_count": null,
       "_view_module": "@jupyter-widgets/controls",
       "_view_module_version": "1.5.0",
       "_view_name": "HTMLView",
       "description": "",
       "description_tooltip": null,
       "layout": "IPY_MODEL_7cd2070ede4f4a518828d0456bdf6926",
       "placeholder": "​",
       "style": "IPY_MODEL_ca946242fdb241e59a05dd21fc648553",
       "value": "model.safetensors: 100%"
      }
     },
     "4a9e688ca86e43a2a543d4e04bb75939": {
      "model_module": "@jupyter-widgets/controls",
      "model_module_version": "1.5.0",
      "model_name": "FloatProgressModel",
      "state": {
       "_dom_classes": [],
       "_model_module": "@jupyter-widgets/controls",
       "_model_module_version": "1.5.0",
       "_model_name": "FloatProgressModel",
       "_view_count": null,
       "_view_module": "@jupyter-widgets/controls",
       "_view_module_version": "1.5.0",
       "_view_name": "ProgressView",
       "bar_style": "success",
       "description": "",
       "description_tooltip": null,
       "layout": "IPY_MODEL_ee78173ba5a74e1abdb0b607d0d91df3",
       "max": 374979480.0,
       "min": 0.0,
       "orientation": "horizontal",
       "style": "IPY_MODEL_3dabb9d16aa6489ba066b9a35e7c5ec8",
       "value": 374979480.0
      }
     },
     "4aec5c108f0146b28734b4473bc057a6": {
      "model_module": "@jupyter-widgets/controls",
      "model_module_version": "1.5.0",
      "model_name": "HBoxModel",
      "state": {
       "_dom_classes": [],
       "_model_module": "@jupyter-widgets/controls",
       "_model_module_version": "1.5.0",
       "_model_name": "HBoxModel",
       "_view_count": null,
       "_view_module": "@jupyter-widgets/controls",
       "_view_module_version": "1.5.0",
       "_view_name": "HBoxView",
       "box_style": "",
       "children": [
        "IPY_MODEL_43936a10e71b4948af677cf3db545d86",
        "IPY_MODEL_4a9e688ca86e43a2a543d4e04bb75939",
        "IPY_MODEL_5dc05d35e7c141c1a685c4ef02c6b318"
       ],
       "layout": "IPY_MODEL_8449ca253e28465184ce3459ae5908f1"
      }
     },
     "4d7cb48b148a4ef8b8bc9782a352ab6a": {
      "model_module": "@jupyter-widgets/controls",
      "model_module_version": "1.5.0",
      "model_name": "DescriptionStyleModel",
      "state": {
       "_model_module": "@jupyter-widgets/controls",
       "_model_module_version": "1.5.0",
       "_model_name": "DescriptionStyleModel",
       "_view_count": null,
       "_view_module": "@jupyter-widgets/base",
       "_view_module_version": "1.2.0",
       "_view_name": "StyleView",
       "description_width": ""
      }
     },
     "58c0c596fe0a4b99a08a00dbef973170": {
      "model_module": "@jupyter-widgets/controls",
      "model_module_version": "1.5.0",
      "model_name": "DescriptionStyleModel",
      "state": {
       "_model_module": "@jupyter-widgets/controls",
       "_model_module_version": "1.5.0",
       "_model_name": "DescriptionStyleModel",
       "_view_count": null,
       "_view_module": "@jupyter-widgets/base",
       "_view_module_version": "1.2.0",
       "_view_name": "StyleView",
       "description_width": ""
      }
     },
     "5dc05d35e7c141c1a685c4ef02c6b318": {
      "model_module": "@jupyter-widgets/controls",
      "model_module_version": "1.5.0",
      "model_name": "HTMLModel",
      "state": {
       "_dom_classes": [],
       "_model_module": "@jupyter-widgets/controls",
       "_model_module_version": "1.5.0",
       "_model_name": "HTMLModel",
       "_view_count": null,
       "_view_module": "@jupyter-widgets/controls",
       "_view_module_version": "1.5.0",
       "_view_name": "HTMLView",
       "description": "",
       "description_tooltip": null,
       "layout": "IPY_MODEL_7a0178da9e12496a92b6610298364ccd",
       "placeholder": "​",
       "style": "IPY_MODEL_4d7cb48b148a4ef8b8bc9782a352ab6a",
       "value": " 375M/375M [00:01&lt;00:00, 362MB/s]"
      }
     },
     "5ed808ada1234af1a6a3bdea70c0a487": {
      "model_module": "@jupyter-widgets/controls",
      "model_module_version": "1.5.0",
      "model_name": "DescriptionStyleModel",
      "state": {
       "_model_module": "@jupyter-widgets/controls",
       "_model_module_version": "1.5.0",
       "_model_name": "DescriptionStyleModel",
       "_view_count": null,
       "_view_module": "@jupyter-widgets/base",
       "_view_module_version": "1.2.0",
       "_view_name": "StyleView",
       "description_width": ""
      }
     },
     "6253a5397d2d438b880da2a6fd5e1652": {
      "model_module": "@jupyter-widgets/controls",
      "model_module_version": "1.5.0",
      "model_name": "HBoxModel",
      "state": {
       "_dom_classes": [],
       "_model_module": "@jupyter-widgets/controls",
       "_model_module_version": "1.5.0",
       "_model_name": "HBoxModel",
       "_view_count": null,
       "_view_module": "@jupyter-widgets/controls",
       "_view_module_version": "1.5.0",
       "_view_name": "HBoxView",
       "box_style": "",
       "children": [
        "IPY_MODEL_2a96e62a000d43bc8bedc94e91edaa11",
        "IPY_MODEL_ef24d99df1f14fcfa6681f76f3c067c5",
        "IPY_MODEL_947529ce46d748fdb910c409047a290f"
       ],
       "layout": "IPY_MODEL_350f0950f1b249c49f69e5e7cf6ba354"
      }
     },
     "70d3160ce4924c40a85fc97b018b94c3": {
      "model_module": "@jupyter-widgets/controls",
      "model_module_version": "1.5.0",
      "model_name": "HBoxModel",
      "state": {
       "_dom_classes": [],
       "_model_module": "@jupyter-widgets/controls",
       "_model_module_version": "1.5.0",
       "_model_name": "HBoxModel",
       "_view_count": null,
       "_view_module": "@jupyter-widgets/controls",
       "_view_module_version": "1.5.0",
       "_view_name": "HBoxView",
       "box_style": "",
       "children": [
        "IPY_MODEL_fcd9662308b444189ea5e01e7db4cdbb",
        "IPY_MODEL_20e5f9ff19744c0ab4386aa275d41aee",
        "IPY_MODEL_a535bad51f7d45e09170a57ca0579b91"
       ],
       "layout": "IPY_MODEL_e63fbed7624f4daaa8bd5cbfd21df931"
      }
     },
     "7a0178da9e12496a92b6610298364ccd": {
      "model_module": "@jupyter-widgets/base",
      "model_module_version": "1.2.0",
      "model_name": "LayoutModel",
      "state": {
       "_model_module": "@jupyter-widgets/base",
       "_model_module_version": "1.2.0",
       "_model_name": "LayoutModel",
       "_view_count": null,
       "_view_module": "@jupyter-widgets/base",
       "_view_module_version": "1.2.0",
       "_view_name": "LayoutView",
       "align_content": null,
       "align_items": null,
       "align_self": null,
       "border": null,
       "bottom": null,
       "display": null,
       "flex": null,
       "flex_flow": null,
       "grid_area": null,
       "grid_auto_columns": null,
       "grid_auto_flow": null,
       "grid_auto_rows": null,
       "grid_column": null,
       "grid_gap": null,
       "grid_row": null,
       "grid_template_areas": null,
       "grid_template_columns": null,
       "grid_template_rows": null,
       "height": null,
       "justify_content": null,
       "justify_items": null,
       "left": null,
       "margin": null,
       "max_height": null,
       "max_width": null,
       "min_height": null,
       "min_width": null,
       "object_fit": null,
       "object_position": null,
       "order": null,
       "overflow": null,
       "overflow_x": null,
       "overflow_y": null,
       "padding": null,
       "right": null,
       "top": null,
       "visibility": null,
       "width": null
      }
     },
     "7c71417c7ca64124a0109011cb4fee95": {
      "model_module": "@jupyter-widgets/controls",
      "model_module_version": "1.5.0",
      "model_name": "ProgressStyleModel",
      "state": {
       "_model_module": "@jupyter-widgets/controls",
       "_model_module_version": "1.5.0",
       "_model_name": "ProgressStyleModel",
       "_view_count": null,
       "_view_module": "@jupyter-widgets/base",
       "_view_module_version": "1.2.0",
       "_view_name": "StyleView",
       "bar_color": null,
       "description_width": ""
      }
     },
     "7cd2070ede4f4a518828d0456bdf6926": {
      "model_module": "@jupyter-widgets/base",
      "model_module_version": "1.2.0",
      "model_name": "LayoutModel",
      "state": {
       "_model_module": "@jupyter-widgets/base",
       "_model_module_version": "1.2.0",
       "_model_name": "LayoutModel",
       "_view_count": null,
       "_view_module": "@jupyter-widgets/base",
       "_view_module_version": "1.2.0",
       "_view_name": "LayoutView",
       "align_content": null,
       "align_items": null,
       "align_self": null,
       "border": null,
       "bottom": null,
       "display": null,
       "flex": null,
       "flex_flow": null,
       "grid_area": null,
       "grid_auto_columns": null,
       "grid_auto_flow": null,
       "grid_auto_rows": null,
       "grid_column": null,
       "grid_gap": null,
       "grid_row": null,
       "grid_template_areas": null,
       "grid_template_columns": null,
       "grid_template_rows": null,
       "height": null,
       "justify_content": null,
       "justify_items": null,
       "left": null,
       "margin": null,
       "max_height": null,
       "max_width": null,
       "min_height": null,
       "min_width": null,
       "object_fit": null,
       "object_position": null,
       "order": null,
       "overflow": null,
       "overflow_x": null,
       "overflow_y": null,
       "padding": null,
       "right": null,
       "top": null,
       "visibility": null,
       "width": null
      }
     },
     "8449ca253e28465184ce3459ae5908f1": {
      "model_module": "@jupyter-widgets/base",
      "model_module_version": "1.2.0",
      "model_name": "LayoutModel",
      "state": {
       "_model_module": "@jupyter-widgets/base",
       "_model_module_version": "1.2.0",
       "_model_name": "LayoutModel",
       "_view_count": null,
       "_view_module": "@jupyter-widgets/base",
       "_view_module_version": "1.2.0",
       "_view_name": "LayoutView",
       "align_content": null,
       "align_items": null,
       "align_self": null,
       "border": null,
       "bottom": null,
       "display": null,
       "flex": null,
       "flex_flow": null,
       "grid_area": null,
       "grid_auto_columns": null,
       "grid_auto_flow": null,
       "grid_auto_rows": null,
       "grid_column": null,
       "grid_gap": null,
       "grid_row": null,
       "grid_template_areas": null,
       "grid_template_columns": null,
       "grid_template_rows": null,
       "height": null,
       "justify_content": null,
       "justify_items": null,
       "left": null,
       "margin": null,
       "max_height": null,
       "max_width": null,
       "min_height": null,
       "min_width": null,
       "object_fit": null,
       "object_position": null,
       "order": null,
       "overflow": null,
       "overflow_x": null,
       "overflow_y": null,
       "padding": null,
       "right": null,
       "top": null,
       "visibility": null,
       "width": null
      }
     },
     "923425e34ce04b2786929622dd763331": {
      "model_module": "@jupyter-widgets/base",
      "model_module_version": "1.2.0",
      "model_name": "LayoutModel",
      "state": {
       "_model_module": "@jupyter-widgets/base",
       "_model_module_version": "1.2.0",
       "_model_name": "LayoutModel",
       "_view_count": null,
       "_view_module": "@jupyter-widgets/base",
       "_view_module_version": "1.2.0",
       "_view_name": "LayoutView",
       "align_content": null,
       "align_items": null,
       "align_self": null,
       "border": null,
       "bottom": null,
       "display": null,
       "flex": null,
       "flex_flow": null,
       "grid_area": null,
       "grid_auto_columns": null,
       "grid_auto_flow": null,
       "grid_auto_rows": null,
       "grid_column": null,
       "grid_gap": null,
       "grid_row": null,
       "grid_template_areas": null,
       "grid_template_columns": null,
       "grid_template_rows": null,
       "height": null,
       "justify_content": null,
       "justify_items": null,
       "left": null,
       "margin": null,
       "max_height": null,
       "max_width": null,
       "min_height": null,
       "min_width": null,
       "object_fit": null,
       "object_position": null,
       "order": null,
       "overflow": null,
       "overflow_x": null,
       "overflow_y": null,
       "padding": null,
       "right": null,
       "top": null,
       "visibility": null,
       "width": null
      }
     },
     "947529ce46d748fdb910c409047a290f": {
      "model_module": "@jupyter-widgets/controls",
      "model_module_version": "1.5.0",
      "model_name": "HTMLModel",
      "state": {
       "_dom_classes": [],
       "_model_module": "@jupyter-widgets/controls",
       "_model_module_version": "1.5.0",
       "_model_name": "HTMLModel",
       "_view_count": null,
       "_view_module": "@jupyter-widgets/controls",
       "_view_module_version": "1.5.0",
       "_view_name": "HTMLView",
       "description": "",
       "description_tooltip": null,
       "layout": "IPY_MODEL_923425e34ce04b2786929622dd763331",
       "placeholder": "​",
       "style": "IPY_MODEL_ab5f4f29e09c4120990ae76ab947a53f",
       "value": " 6.57k/6.57k [00:00&lt;00:00, 537kB/s]"
      }
     },
     "a535bad51f7d45e09170a57ca0579b91": {
      "model_module": "@jupyter-widgets/controls",
      "model_module_version": "1.5.0",
      "model_name": "HTMLModel",
      "state": {
       "_dom_classes": [],
       "_model_module": "@jupyter-widgets/controls",
       "_model_module_version": "1.5.0",
       "_model_name": "HTMLModel",
       "_view_count": null,
       "_view_module": "@jupyter-widgets/controls",
       "_view_module_version": "1.5.0",
       "_view_name": "HTMLView",
       "description": "",
       "description_tooltip": null,
       "layout": "IPY_MODEL_009d4870bd704b30ba8d1c57838d0434",
       "placeholder": "​",
       "style": "IPY_MODEL_58c0c596fe0a4b99a08a00dbef973170",
       "value": " 466/466 [00:00&lt;00:00, 35.5kB/s]"
      }
     },
     "ab5f4f29e09c4120990ae76ab947a53f": {
      "model_module": "@jupyter-widgets/controls",
      "model_module_version": "1.5.0",
      "model_name": "DescriptionStyleModel",
      "state": {
       "_model_module": "@jupyter-widgets/controls",
       "_model_module_version": "1.5.0",
       "_model_name": "DescriptionStyleModel",
       "_view_count": null,
       "_view_module": "@jupyter-widgets/base",
       "_view_module_version": "1.2.0",
       "_view_name": "StyleView",
       "description_width": ""
      }
     },
     "bc53995fde2a463899ff0d1d87d49e4d": {
      "model_module": "@jupyter-widgets/base",
      "model_module_version": "1.2.0",
      "model_name": "LayoutModel",
      "state": {
       "_model_module": "@jupyter-widgets/base",
       "_model_module_version": "1.2.0",
       "_model_name": "LayoutModel",
       "_view_count": null,
       "_view_module": "@jupyter-widgets/base",
       "_view_module_version": "1.2.0",
       "_view_name": "LayoutView",
       "align_content": null,
       "align_items": null,
       "align_self": null,
       "border": null,
       "bottom": null,
       "display": null,
       "flex": null,
       "flex_flow": null,
       "grid_area": null,
       "grid_auto_columns": null,
       "grid_auto_flow": null,
       "grid_auto_rows": null,
       "grid_column": null,
       "grid_gap": null,
       "grid_row": null,
       "grid_template_areas": null,
       "grid_template_columns": null,
       "grid_template_rows": null,
       "height": null,
       "justify_content": null,
       "justify_items": null,
       "left": null,
       "margin": null,
       "max_height": null,
       "max_width": null,
       "min_height": null,
       "min_width": null,
       "object_fit": null,
       "object_position": null,
       "order": null,
       "overflow": null,
       "overflow_x": null,
       "overflow_y": null,
       "padding": null,
       "right": null,
       "top": null,
       "visibility": null,
       "width": null
      }
     },
     "ca946242fdb241e59a05dd21fc648553": {
      "model_module": "@jupyter-widgets/controls",
      "model_module_version": "1.5.0",
      "model_name": "DescriptionStyleModel",
      "state": {
       "_model_module": "@jupyter-widgets/controls",
       "_model_module_version": "1.5.0",
       "_model_name": "DescriptionStyleModel",
       "_view_count": null,
       "_view_module": "@jupyter-widgets/base",
       "_view_module_version": "1.2.0",
       "_view_name": "StyleView",
       "description_width": ""
      }
     },
     "e080a16a3c6e413aadbbb1c8a878c30f": {
      "model_module": "@jupyter-widgets/base",
      "model_module_version": "1.2.0",
      "model_name": "LayoutModel",
      "state": {
       "_model_module": "@jupyter-widgets/base",
       "_model_module_version": "1.2.0",
       "_model_name": "LayoutModel",
       "_view_count": null,
       "_view_module": "@jupyter-widgets/base",
       "_view_module_version": "1.2.0",
       "_view_name": "LayoutView",
       "align_content": null,
       "align_items": null,
       "align_self": null,
       "border": null,
       "bottom": null,
       "display": null,
       "flex": null,
       "flex_flow": null,
       "grid_area": null,
       "grid_auto_columns": null,
       "grid_auto_flow": null,
       "grid_auto_rows": null,
       "grid_column": null,
       "grid_gap": null,
       "grid_row": null,
       "grid_template_areas": null,
       "grid_template_columns": null,
       "grid_template_rows": null,
       "height": null,
       "justify_content": null,
       "justify_items": null,
       "left": null,
       "margin": null,
       "max_height": null,
       "max_width": null,
       "min_height": null,
       "min_width": null,
       "object_fit": null,
       "object_position": null,
       "order": null,
       "overflow": null,
       "overflow_x": null,
       "overflow_y": null,
       "padding": null,
       "right": null,
       "top": null,
       "visibility": null,
       "width": null
      }
     },
     "e3b2f8e7b88a4c12819c6d74c9fb2e05": {
      "model_module": "@jupyter-widgets/controls",
      "model_module_version": "1.5.0",
      "model_name": "ProgressStyleModel",
      "state": {
       "_model_module": "@jupyter-widgets/controls",
       "_model_module_version": "1.5.0",
       "_model_name": "ProgressStyleModel",
       "_view_count": null,
       "_view_module": "@jupyter-widgets/base",
       "_view_module_version": "1.2.0",
       "_view_name": "StyleView",
       "bar_color": null,
       "description_width": ""
      }
     },
     "e63fbed7624f4daaa8bd5cbfd21df931": {
      "model_module": "@jupyter-widgets/base",
      "model_module_version": "1.2.0",
      "model_name": "LayoutModel",
      "state": {
       "_model_module": "@jupyter-widgets/base",
       "_model_module_version": "1.2.0",
       "_model_name": "LayoutModel",
       "_view_count": null,
       "_view_module": "@jupyter-widgets/base",
       "_view_module_version": "1.2.0",
       "_view_name": "LayoutView",
       "align_content": null,
       "align_items": null,
       "align_self": null,
       "border": null,
       "bottom": null,
       "display": null,
       "flex": null,
       "flex_flow": null,
       "grid_area": null,
       "grid_auto_columns": null,
       "grid_auto_flow": null,
       "grid_auto_rows": null,
       "grid_column": null,
       "grid_gap": null,
       "grid_row": null,
       "grid_template_areas": null,
       "grid_template_columns": null,
       "grid_template_rows": null,
       "height": null,
       "justify_content": null,
       "justify_items": null,
       "left": null,
       "margin": null,
       "max_height": null,
       "max_width": null,
       "min_height": null,
       "min_width": null,
       "object_fit": null,
       "object_position": null,
       "order": null,
       "overflow": null,
       "overflow_x": null,
       "overflow_y": null,
       "padding": null,
       "right": null,
       "top": null,
       "visibility": null,
       "width": null
      }
     },
     "ee78173ba5a74e1abdb0b607d0d91df3": {
      "model_module": "@jupyter-widgets/base",
      "model_module_version": "1.2.0",
      "model_name": "LayoutModel",
      "state": {
       "_model_module": "@jupyter-widgets/base",
       "_model_module_version": "1.2.0",
       "_model_name": "LayoutModel",
       "_view_count": null,
       "_view_module": "@jupyter-widgets/base",
       "_view_module_version": "1.2.0",
       "_view_name": "LayoutView",
       "align_content": null,
       "align_items": null,
       "align_self": null,
       "border": null,
       "bottom": null,
       "display": null,
       "flex": null,
       "flex_flow": null,
       "grid_area": null,
       "grid_auto_columns": null,
       "grid_auto_flow": null,
       "grid_auto_rows": null,
       "grid_column": null,
       "grid_gap": null,
       "grid_row": null,
       "grid_template_areas": null,
       "grid_template_columns": null,
       "grid_template_rows": null,
       "height": null,
       "justify_content": null,
       "justify_items": null,
       "left": null,
       "margin": null,
       "max_height": null,
       "max_width": null,
       "min_height": null,
       "min_width": null,
       "object_fit": null,
       "object_position": null,
       "order": null,
       "overflow": null,
       "overflow_x": null,
       "overflow_y": null,
       "padding": null,
       "right": null,
       "top": null,
       "visibility": null,
       "width": null
      }
     },
     "ef24d99df1f14fcfa6681f76f3c067c5": {
      "model_module": "@jupyter-widgets/controls",
      "model_module_version": "1.5.0",
      "model_name": "FloatProgressModel",
      "state": {
       "_dom_classes": [],
       "_model_module": "@jupyter-widgets/controls",
       "_model_module_version": "1.5.0",
       "_model_name": "FloatProgressModel",
       "_view_count": null,
       "_view_module": "@jupyter-widgets/controls",
       "_view_module_version": "1.5.0",
       "_view_name": "ProgressView",
       "bar_style": "success",
       "description": "",
       "description_tooltip": null,
       "layout": "IPY_MODEL_e080a16a3c6e413aadbbb1c8a878c30f",
       "max": 6566.0,
       "min": 0.0,
       "orientation": "horizontal",
       "style": "IPY_MODEL_7c71417c7ca64124a0109011cb4fee95",
       "value": 6566.0
      }
     },
     "fcd9662308b444189ea5e01e7db4cdbb": {
      "model_module": "@jupyter-widgets/controls",
      "model_module_version": "1.5.0",
      "model_name": "HTMLModel",
      "state": {
       "_dom_classes": [],
       "_model_module": "@jupyter-widgets/controls",
       "_model_module_version": "1.5.0",
       "_model_name": "HTMLModel",
       "_view_count": null,
       "_view_module": "@jupyter-widgets/controls",
       "_view_module_version": "1.5.0",
       "_view_name": "HTMLView",
       "description": "",
       "description_tooltip": null,
       "layout": "IPY_MODEL_bc53995fde2a463899ff0d1d87d49e4d",
       "placeholder": "​",
       "style": "IPY_MODEL_5ed808ada1234af1a6a3bdea70c0a487",
       "value": "preprocessor_config.json: 100%"
      }
     }
    },
    "version_major": 2,
    "version_minor": 0
   }
  }
 },
 "nbformat": 4,
 "nbformat_minor": 5
}
